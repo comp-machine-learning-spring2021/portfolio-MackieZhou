{
 "metadata": {
  "language_info": {
   "codemirror_mode": {
    "name": "ipython",
    "version": 3
   },
   "file_extension": ".py",
   "mimetype": "text/x-python",
   "name": "python",
   "nbconvert_exporter": "python",
   "pygments_lexer": "ipython3",
   "version": "3.8.8"
  },
  "orig_nbformat": 2,
  "kernelspec": {
   "name": "python388jvsc74a57bd0e641c4b92376dc9bd079cc248ace28dbe156d700fd16a7199093be6a3cabd287",
   "display_name": "Python 3.8.8 64-bit ('csc294': conda)"
  }
 },
 "nbformat": 4,
 "nbformat_minor": 2,
 "cells": [
  {
   "source": [
    "# Supervised ML: Company Bankruptcy Prediction\n",
    "\n",
    "In this project, I will complete a classification task. The dataset I will look at is [the Company Bankruptcy Prediction dataset from Kaggle](https://www.kaggle.com/fedesoriano/company-bankruptcy-prediction), which is a Bankruptcy data from the Taiwan Economic Journal for the years 1999–2009. My goal is to predict whether a business will go bankruptcy."
   ],
   "cell_type": "markdown",
   "metadata": {}
  },
  {
   "cell_type": "code",
   "execution_count": 1,
   "metadata": {},
   "outputs": [],
   "source": [
    "# import block\n",
    "import matplotlib.pyplot as plt\n",
    "%matplotlib widget\n",
    "\n",
    "import pandas as pd\n",
    "import numpy as np\n",
    "from numpy import linalg as LA\n",
    "import math\n",
    "from sklearn.svm import SVC\n",
    "from sklearn import preprocessing\n",
    "from sklearn.decomposition import PCA\n",
    "\n",
    "from svm_plot import *\n",
    "from coding_3 import ten_fold, split_val_data"
   ]
  },
  {
   "source": [
    "## The Dataset"
   ],
   "cell_type": "markdown",
   "metadata": {}
  },
  {
   "cell_type": "code",
   "execution_count": 2,
   "metadata": {},
   "outputs": [
    {
     "output_type": "stream",
     "name": "stdout",
     "text": [
      "(6819, 96)\n"
     ]
    },
    {
     "output_type": "execute_result",
     "data": {
      "text/plain": [
       "   Bankrupt?   ROA(C) before interest and depreciation before interest  \\\n",
       "0          1                                           0.370594          \n",
       "1          1                                           0.464291          \n",
       "2          1                                           0.426071          \n",
       "3          1                                           0.399844          \n",
       "4          1                                           0.465022          \n",
       "\n",
       "    ROA(A) before interest and % after tax  \\\n",
       "0                                 0.424389   \n",
       "1                                 0.538214   \n",
       "2                                 0.499019   \n",
       "3                                 0.451265   \n",
       "4                                 0.538432   \n",
       "\n",
       "    ROA(B) before interest and depreciation after tax  \\\n",
       "0                                           0.405750    \n",
       "1                                           0.516730    \n",
       "2                                           0.472295    \n",
       "3                                           0.457733    \n",
       "4                                           0.522298    \n",
       "\n",
       "    Operating Gross Margin   Realized Sales Gross Margin  \\\n",
       "0                 0.601457                      0.601457   \n",
       "1                 0.610235                      0.610235   \n",
       "2                 0.601450                      0.601364   \n",
       "3                 0.583541                      0.583541   \n",
       "4                 0.598783                      0.598783   \n",
       "\n",
       "    Operating Profit Rate   Pre-tax net Interest Rate  \\\n",
       "0                0.998969                    0.796887   \n",
       "1                0.998946                    0.797380   \n",
       "2                0.998857                    0.796403   \n",
       "3                0.998700                    0.796967   \n",
       "4                0.998973                    0.797366   \n",
       "\n",
       "    After-tax net Interest Rate   Non-industry income and expenditure/revenue  \\\n",
       "0                      0.808809                                      0.302646   \n",
       "1                      0.809301                                      0.303556   \n",
       "2                      0.808388                                      0.302035   \n",
       "3                      0.808966                                      0.303350   \n",
       "4                      0.809304                                      0.303475   \n",
       "\n",
       "   ...   Net Income to Total Assets   Total assets to GNP price  \\\n",
       "0  ...                     0.716845                    0.009219   \n",
       "1  ...                     0.795297                    0.008323   \n",
       "2  ...                     0.774670                    0.040003   \n",
       "3  ...                     0.739555                    0.003252   \n",
       "4  ...                     0.795016                    0.003878   \n",
       "\n",
       "    No-credit Interval   Gross Profit to Sales  \\\n",
       "0             0.622879                0.601453   \n",
       "1             0.623652                0.610237   \n",
       "2             0.623841                0.601449   \n",
       "3             0.622929                0.583538   \n",
       "4             0.623521                0.598782   \n",
       "\n",
       "    Net Income to Stockholder's Equity   Liability to Equity  \\\n",
       "0                             0.827890              0.290202   \n",
       "1                             0.839969              0.283846   \n",
       "2                             0.836774              0.290189   \n",
       "3                             0.834697              0.281721   \n",
       "4                             0.839973              0.278514   \n",
       "\n",
       "    Degree of Financial Leverage (DFL)  \\\n",
       "0                             0.026601   \n",
       "1                             0.264577   \n",
       "2                             0.026555   \n",
       "3                             0.026697   \n",
       "4                             0.024752   \n",
       "\n",
       "    Interest Coverage Ratio (Interest expense to EBIT)   Net Income Flag  \\\n",
       "0                                           0.564050                   1   \n",
       "1                                           0.570175                   1   \n",
       "2                                           0.563706                   1   \n",
       "3                                           0.564663                   1   \n",
       "4                                           0.575617                   1   \n",
       "\n",
       "    Equity to Liability  \n",
       "0              0.016469  \n",
       "1              0.020794  \n",
       "2              0.016474  \n",
       "3              0.023982  \n",
       "4              0.035490  \n",
       "\n",
       "[5 rows x 96 columns]"
      ],
      "text/html": "<div>\n<style scoped>\n    .dataframe tbody tr th:only-of-type {\n        vertical-align: middle;\n    }\n\n    .dataframe tbody tr th {\n        vertical-align: top;\n    }\n\n    .dataframe thead th {\n        text-align: right;\n    }\n</style>\n<table border=\"1\" class=\"dataframe\">\n  <thead>\n    <tr style=\"text-align: right;\">\n      <th></th>\n      <th>Bankrupt?</th>\n      <th>ROA(C) before interest and depreciation before interest</th>\n      <th>ROA(A) before interest and % after tax</th>\n      <th>ROA(B) before interest and depreciation after tax</th>\n      <th>Operating Gross Margin</th>\n      <th>Realized Sales Gross Margin</th>\n      <th>Operating Profit Rate</th>\n      <th>Pre-tax net Interest Rate</th>\n      <th>After-tax net Interest Rate</th>\n      <th>Non-industry income and expenditure/revenue</th>\n      <th>...</th>\n      <th>Net Income to Total Assets</th>\n      <th>Total assets to GNP price</th>\n      <th>No-credit Interval</th>\n      <th>Gross Profit to Sales</th>\n      <th>Net Income to Stockholder's Equity</th>\n      <th>Liability to Equity</th>\n      <th>Degree of Financial Leverage (DFL)</th>\n      <th>Interest Coverage Ratio (Interest expense to EBIT)</th>\n      <th>Net Income Flag</th>\n      <th>Equity to Liability</th>\n    </tr>\n  </thead>\n  <tbody>\n    <tr>\n      <th>0</th>\n      <td>1</td>\n      <td>0.370594</td>\n      <td>0.424389</td>\n      <td>0.405750</td>\n      <td>0.601457</td>\n      <td>0.601457</td>\n      <td>0.998969</td>\n      <td>0.796887</td>\n      <td>0.808809</td>\n      <td>0.302646</td>\n      <td>...</td>\n      <td>0.716845</td>\n      <td>0.009219</td>\n      <td>0.622879</td>\n      <td>0.601453</td>\n      <td>0.827890</td>\n      <td>0.290202</td>\n      <td>0.026601</td>\n      <td>0.564050</td>\n      <td>1</td>\n      <td>0.016469</td>\n    </tr>\n    <tr>\n      <th>1</th>\n      <td>1</td>\n      <td>0.464291</td>\n      <td>0.538214</td>\n      <td>0.516730</td>\n      <td>0.610235</td>\n      <td>0.610235</td>\n      <td>0.998946</td>\n      <td>0.797380</td>\n      <td>0.809301</td>\n      <td>0.303556</td>\n      <td>...</td>\n      <td>0.795297</td>\n      <td>0.008323</td>\n      <td>0.623652</td>\n      <td>0.610237</td>\n      <td>0.839969</td>\n      <td>0.283846</td>\n      <td>0.264577</td>\n      <td>0.570175</td>\n      <td>1</td>\n      <td>0.020794</td>\n    </tr>\n    <tr>\n      <th>2</th>\n      <td>1</td>\n      <td>0.426071</td>\n      <td>0.499019</td>\n      <td>0.472295</td>\n      <td>0.601450</td>\n      <td>0.601364</td>\n      <td>0.998857</td>\n      <td>0.796403</td>\n      <td>0.808388</td>\n      <td>0.302035</td>\n      <td>...</td>\n      <td>0.774670</td>\n      <td>0.040003</td>\n      <td>0.623841</td>\n      <td>0.601449</td>\n      <td>0.836774</td>\n      <td>0.290189</td>\n      <td>0.026555</td>\n      <td>0.563706</td>\n      <td>1</td>\n      <td>0.016474</td>\n    </tr>\n    <tr>\n      <th>3</th>\n      <td>1</td>\n      <td>0.399844</td>\n      <td>0.451265</td>\n      <td>0.457733</td>\n      <td>0.583541</td>\n      <td>0.583541</td>\n      <td>0.998700</td>\n      <td>0.796967</td>\n      <td>0.808966</td>\n      <td>0.303350</td>\n      <td>...</td>\n      <td>0.739555</td>\n      <td>0.003252</td>\n      <td>0.622929</td>\n      <td>0.583538</td>\n      <td>0.834697</td>\n      <td>0.281721</td>\n      <td>0.026697</td>\n      <td>0.564663</td>\n      <td>1</td>\n      <td>0.023982</td>\n    </tr>\n    <tr>\n      <th>4</th>\n      <td>1</td>\n      <td>0.465022</td>\n      <td>0.538432</td>\n      <td>0.522298</td>\n      <td>0.598783</td>\n      <td>0.598783</td>\n      <td>0.998973</td>\n      <td>0.797366</td>\n      <td>0.809304</td>\n      <td>0.303475</td>\n      <td>...</td>\n      <td>0.795016</td>\n      <td>0.003878</td>\n      <td>0.623521</td>\n      <td>0.598782</td>\n      <td>0.839973</td>\n      <td>0.278514</td>\n      <td>0.024752</td>\n      <td>0.575617</td>\n      <td>1</td>\n      <td>0.035490</td>\n    </tr>\n  </tbody>\n</table>\n<p>5 rows × 96 columns</p>\n</div>"
     },
     "metadata": {},
     "execution_count": 2
    }
   ],
   "source": [
    "# import data\n",
    "data = np.genfromtxt(\"data.csv\", delimiter=',', skip_header=1)\n",
    "data_pd = pd.read_csv(\"data.csv\", sep=\",\")\n",
    "\n",
    "print(data.shape)\n",
    "data_pd.head()"
   ]
  },
  {
   "cell_type": "code",
   "execution_count": 3,
   "metadata": {},
   "outputs": [
    {
     "output_type": "stream",
     "name": "stdout",
     "text": [
      "(6819, 95)\n",
      "C:\\Users\\15810\\miniconda3\\envs\\csc294\\lib\\site-packages\\sklearn\\preprocessing\\_data.py:194: UserWarning: Numerical issues were encountered when centering the data and might not be solved. Dataset may contain too large values. You may need to prescale your features.\n",
      "  warnings.warn(\"Numerical issues were encountered \"\n"
     ]
    },
    {
     "output_type": "execute_result",
     "data": {
      "text/plain": [
       "         0         1         2         3         4         5         6   \\\n",
       "0 -2.217909 -2.045798 -2.400361 -0.383334 -0.382638  0.016456 -0.023516   \n",
       "1 -0.673828 -0.311068 -0.598450  0.135068  0.136307  0.014671  0.014799   \n",
       "2 -1.303672 -0.908420 -1.319910 -0.383759 -0.388177  0.007858 -0.061111   \n",
       "3 -1.735886 -1.636209 -1.556340 -1.441418 -1.441832 -0.004257 -0.017313   \n",
       "4 -0.661778 -0.307745 -0.508050 -0.541238 -0.540708  0.016758  0.013703   \n",
       "\n",
       "         7         8         9   ...        85        86        87        88  \\\n",
       "0 -0.020165 -0.087479 -0.031281  ... -2.254317 -0.049491 -0.084274 -0.383465   \n",
       "1  0.015966 -0.005957  0.009823  ... -0.309033 -0.049491 -0.021388  0.135253   \n",
       "2 -0.051183 -0.142238 -0.086566  ... -0.820510 -0.049491 -0.005984 -0.383698   \n",
       "3 -0.008676 -0.024491 -0.011077  ... -1.691222 -0.049491 -0.080226 -1.441526   \n",
       "4  0.016186 -0.013254  0.013300  ... -0.316008 -0.049491 -0.032052 -0.541255   \n",
       "\n",
       "         89        90         91        92   93        94  \n",
       "0 -0.861611  0.680171  -0.060031 -0.098978  0.0 -0.622067  \n",
       "1 -0.029804  0.240685  15.129816  0.364559  0.0 -0.535573  \n",
       "2 -0.249820  0.679247  -0.062961 -0.125015  0.0 -0.621960  \n",
       "3 -0.392864  0.093765  -0.053903 -0.052562  0.0 -0.471826  \n",
       "4 -0.029564 -0.128014  -0.178037  0.776395  0.0 -0.241715  \n",
       "\n",
       "[5 rows x 95 columns]"
      ],
      "text/html": "<div>\n<style scoped>\n    .dataframe tbody tr th:only-of-type {\n        vertical-align: middle;\n    }\n\n    .dataframe tbody tr th {\n        vertical-align: top;\n    }\n\n    .dataframe thead th {\n        text-align: right;\n    }\n</style>\n<table border=\"1\" class=\"dataframe\">\n  <thead>\n    <tr style=\"text-align: right;\">\n      <th></th>\n      <th>0</th>\n      <th>1</th>\n      <th>2</th>\n      <th>3</th>\n      <th>4</th>\n      <th>5</th>\n      <th>6</th>\n      <th>7</th>\n      <th>8</th>\n      <th>9</th>\n      <th>...</th>\n      <th>85</th>\n      <th>86</th>\n      <th>87</th>\n      <th>88</th>\n      <th>89</th>\n      <th>90</th>\n      <th>91</th>\n      <th>92</th>\n      <th>93</th>\n      <th>94</th>\n    </tr>\n  </thead>\n  <tbody>\n    <tr>\n      <th>0</th>\n      <td>-2.217909</td>\n      <td>-2.045798</td>\n      <td>-2.400361</td>\n      <td>-0.383334</td>\n      <td>-0.382638</td>\n      <td>0.016456</td>\n      <td>-0.023516</td>\n      <td>-0.020165</td>\n      <td>-0.087479</td>\n      <td>-0.031281</td>\n      <td>...</td>\n      <td>-2.254317</td>\n      <td>-0.049491</td>\n      <td>-0.084274</td>\n      <td>-0.383465</td>\n      <td>-0.861611</td>\n      <td>0.680171</td>\n      <td>-0.060031</td>\n      <td>-0.098978</td>\n      <td>0.0</td>\n      <td>-0.622067</td>\n    </tr>\n    <tr>\n      <th>1</th>\n      <td>-0.673828</td>\n      <td>-0.311068</td>\n      <td>-0.598450</td>\n      <td>0.135068</td>\n      <td>0.136307</td>\n      <td>0.014671</td>\n      <td>0.014799</td>\n      <td>0.015966</td>\n      <td>-0.005957</td>\n      <td>0.009823</td>\n      <td>...</td>\n      <td>-0.309033</td>\n      <td>-0.049491</td>\n      <td>-0.021388</td>\n      <td>0.135253</td>\n      <td>-0.029804</td>\n      <td>0.240685</td>\n      <td>15.129816</td>\n      <td>0.364559</td>\n      <td>0.0</td>\n      <td>-0.535573</td>\n    </tr>\n    <tr>\n      <th>2</th>\n      <td>-1.303672</td>\n      <td>-0.908420</td>\n      <td>-1.319910</td>\n      <td>-0.383759</td>\n      <td>-0.388177</td>\n      <td>0.007858</td>\n      <td>-0.061111</td>\n      <td>-0.051183</td>\n      <td>-0.142238</td>\n      <td>-0.086566</td>\n      <td>...</td>\n      <td>-0.820510</td>\n      <td>-0.049491</td>\n      <td>-0.005984</td>\n      <td>-0.383698</td>\n      <td>-0.249820</td>\n      <td>0.679247</td>\n      <td>-0.062961</td>\n      <td>-0.125015</td>\n      <td>0.0</td>\n      <td>-0.621960</td>\n    </tr>\n    <tr>\n      <th>3</th>\n      <td>-1.735886</td>\n      <td>-1.636209</td>\n      <td>-1.556340</td>\n      <td>-1.441418</td>\n      <td>-1.441832</td>\n      <td>-0.004257</td>\n      <td>-0.017313</td>\n      <td>-0.008676</td>\n      <td>-0.024491</td>\n      <td>-0.011077</td>\n      <td>...</td>\n      <td>-1.691222</td>\n      <td>-0.049491</td>\n      <td>-0.080226</td>\n      <td>-1.441526</td>\n      <td>-0.392864</td>\n      <td>0.093765</td>\n      <td>-0.053903</td>\n      <td>-0.052562</td>\n      <td>0.0</td>\n      <td>-0.471826</td>\n    </tr>\n    <tr>\n      <th>4</th>\n      <td>-0.661778</td>\n      <td>-0.307745</td>\n      <td>-0.508050</td>\n      <td>-0.541238</td>\n      <td>-0.540708</td>\n      <td>0.016758</td>\n      <td>0.013703</td>\n      <td>0.016186</td>\n      <td>-0.013254</td>\n      <td>0.013300</td>\n      <td>...</td>\n      <td>-0.316008</td>\n      <td>-0.049491</td>\n      <td>-0.032052</td>\n      <td>-0.541255</td>\n      <td>-0.029564</td>\n      <td>-0.128014</td>\n      <td>-0.178037</td>\n      <td>0.776395</td>\n      <td>0.0</td>\n      <td>-0.241715</td>\n    </tr>\n  </tbody>\n</table>\n<p>5 rows × 95 columns</p>\n</div>"
     },
     "metadata": {},
     "execution_count": 3
    }
   ],
   "source": [
    "# standardize the data (except for the first column)\n",
    "target = data_pd.iloc[:, 0]\n",
    "features = data_pd.iloc[:, 1:]\n",
    "features_std = preprocessing.scale(features)\n",
    "\n",
    "print(features_std.shape)\n",
    "pd.DataFrame(features_std).head()"
   ]
  },
  {
   "source": [
    "## Dimension Reduction with PCA\n",
    "\n",
    "The data has 6819 rows. Except for the first column `Bankrupt?`, there are 95 features that I can use to predict `Bankrupt?`. 95 features are a lot and may slow down the calculation significantly. Therefore, I will first use PCA to reduce the dimension of this dataset."
   ],
   "cell_type": "markdown",
   "metadata": {}
  },
  {
   "cell_type": "code",
   "execution_count": 4,
   "metadata": {},
   "outputs": [
    {
     "output_type": "stream",
     "name": "stdout",
     "text": [
      "(6819, 3)\n"
     ]
    },
    {
     "output_type": "execute_result",
     "data": {
      "text/plain": [
       "        pc1       pc2       pc3\n",
       "0 -7.338295  0.373302  0.309180\n",
       "1 -2.703713 -0.986342  2.155691\n",
       "2 -4.307059 -0.404691  0.309400\n",
       "3 -5.830736 -1.385625  1.301610\n",
       "4 -2.343197 -0.201782 -0.806667"
      ],
      "text/html": "<div>\n<style scoped>\n    .dataframe tbody tr th:only-of-type {\n        vertical-align: middle;\n    }\n\n    .dataframe tbody tr th {\n        vertical-align: top;\n    }\n\n    .dataframe thead th {\n        text-align: right;\n    }\n</style>\n<table border=\"1\" class=\"dataframe\">\n  <thead>\n    <tr style=\"text-align: right;\">\n      <th></th>\n      <th>pc1</th>\n      <th>pc2</th>\n      <th>pc3</th>\n    </tr>\n  </thead>\n  <tbody>\n    <tr>\n      <th>0</th>\n      <td>-7.338295</td>\n      <td>0.373302</td>\n      <td>0.309180</td>\n    </tr>\n    <tr>\n      <th>1</th>\n      <td>-2.703713</td>\n      <td>-0.986342</td>\n      <td>2.155691</td>\n    </tr>\n    <tr>\n      <th>2</th>\n      <td>-4.307059</td>\n      <td>-0.404691</td>\n      <td>0.309400</td>\n    </tr>\n    <tr>\n      <th>3</th>\n      <td>-5.830736</td>\n      <td>-1.385625</td>\n      <td>1.301610</td>\n    </tr>\n    <tr>\n      <th>4</th>\n      <td>-2.343197</td>\n      <td>-0.201782</td>\n      <td>-0.806667</td>\n    </tr>\n  </tbody>\n</table>\n</div>"
     },
     "metadata": {},
     "execution_count": 4
    }
   ],
   "source": [
    "# implement PCA\n",
    "# In order to visualize the data, I will reduce the dimension to 3\n",
    "pca = PCA(n_components=3)\n",
    "features_lowdim = pca.fit_transform(features_std)\n",
    "features_lowdim_pd = pd.DataFrame(data=features_lowdim, columns=['pc1', 'pc2', 'pc3'])\n",
    "\n",
    "print(features_lowdim_pd.shape)\n",
    "features_lowdim_pd.head()"
   ]
  },
  {
   "cell_type": "code",
   "execution_count": 5,
   "metadata": {},
   "outputs": [
    {
     "output_type": "display_data",
     "data": {
      "text/plain": "Canvas(toolbar=Toolbar(toolitems=[('Home', 'Reset original view', 'home', 'home'), ('Back', 'Back to previous …",
      "application/vnd.jupyter.widget-view+json": {
       "version_major": 2,
       "version_minor": 0,
       "model_id": "d50ebed21c344bbf9985d76efe37b329"
      }
     },
     "metadata": {}
    }
   ],
   "source": [
    "# visualize the data after dimension reduction\n",
    "fig = plt.figure(figsize=(7, 7))\n",
    "ax = plt.axes(projection='3d')\n",
    "ax.scatter(features_lowdim[:, 0], features_lowdim[:, 1], features_lowdim[:, 2], c=target, cmap='bwr');"
   ]
  },
  {
   "source": [
    "# SVM & 10-fold Cross Validation"
   ],
   "cell_type": "markdown",
   "metadata": {}
  },
  {
   "cell_type": "code",
   "execution_count": 6,
   "metadata": {},
   "outputs": [],
   "source": [
    "# split the dataset into validation and train/test sets\n",
    "\n",
    "all_data = np.hstack([pd.DataFrame(target), features_lowdim_pd])\n",
    "val, data = split_val_data(all_data, 15)\n",
    "\n",
    "val_feature = val[:, 1:]\n",
    "val_target = val[:, 0]\n",
    "\n",
    "data_feature = data[:, 1:]\n",
    "data_target = data[:, 0]"
   ]
  },
  {
   "cell_type": "code",
   "execution_count": 7,
   "metadata": {},
   "outputs": [
    {
     "output_type": "stream",
     "name": "stdout",
     "text": [
      "[1. 1. 0. ... 0. 0. 0.]\n\n[[-2.34319743 -0.20178248 -0.80666731]\n [-6.68185674 -0.77414995  0.92769037]\n [-5.85596797  0.08219254  0.62865305]\n ...\n [ 1.91030715 -1.69373744  1.41040138]\n [ 1.85426189 -0.39794146  0.48828528]\n [ 1.23594186 -2.32947265  0.46657912]]\n"
     ]
    }
   ],
   "source": [
    "print(data_target)\n",
    "print()\n",
    "print(data_feature)"
   ]
  },
  {
   "cell_type": "code",
   "execution_count": 8,
   "metadata": {},
   "outputs": [
    {
     "output_type": "execute_result",
     "data": {
      "text/plain": [
       "0.036415321225839535"
      ]
     },
     "metadata": {},
     "execution_count": 8
    }
   ],
   "source": [
    "# Apply ten_fold() to get the cross-val error for RBF kernel SVM\n",
    "kernel = \"rbf\"\n",
    "rbf_crossval_error = ten_fold(data_feature, data_target, kernel)\n",
    "rbf_crossval_error"
   ]
  },
  {
   "cell_type": "code",
   "execution_count": 9,
   "metadata": {},
   "outputs": [],
   "source": [
    "# Apply ten_fold() to get the cross-val error for polynomial (degree=2) kernel SVM\n",
    "kernel = \"poly\"\n",
    "poly_crossval_error = ten_fold(data_feature, data_target, kernel, degree=2)\n",
    "poly_crossval_error"
   ]
  },
  {
   "cell_type": "code",
   "execution_count": null,
   "metadata": {},
   "outputs": [],
   "source": [
    "# Apply ten_fold() to get the cross-val error for polynomial (degree=3) kernel SVM\n",
    "kernel = \"poly\"\n",
    "poly_crossval_error = ten_fold(data_feature, data_target, kernel, degree=3)\n",
    "poly_crossval_error"
   ]
  },
  {
   "cell_type": "code",
   "execution_count": null,
   "metadata": {},
   "outputs": [],
   "source": [
    "# Apply ten_fold() to get the cross-val error for polynomial (degree=3) kernel SVM\n",
    "kernel = \"poly\"\n",
    "poly_crossval_error = ten_fold(data_feature, data_target, kernel, degree=4)\n",
    "poly_crossval_error"
   ]
  },
  {
   "cell_type": "code",
   "execution_count": null,
   "metadata": {},
   "outputs": [],
   "source": [
    "# Apply ten_fold() to get the cross-val error for linear kernel SVM\n",
    "kernel = \"linear\"\n",
    "linear_crossval_error = ten_fold(data_feature, data_target, kernel)\n",
    "linear_crossval_error"
   ]
  }
 ]
}