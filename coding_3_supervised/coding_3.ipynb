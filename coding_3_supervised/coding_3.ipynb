{
 "cells": [
  {
   "cell_type": "markdown",
   "metadata": {},
   "source": [
    "# Supervised ML: Company Bankruptcy Prediction\n",
    "\n",
    "In this project, I will complete a classification task. The dataset I will look at is [the Company Bankruptcy Prediction dataset from Kaggle](https://www.kaggle.com/fedesoriano/company-bankruptcy-prediction), which is a Bankruptcy data from the Taiwan Economic Journal for the years 1999–2009.\n",
    "\n",
    "\n",
    "My goal is to train a **random forest** model to predict whether a business will go bankrupt. I will use **PCA** to reduce the dimension of the dataset. I will use **cross-validation** to choose the best hyperparameters for the random forest model and then fit a model with the \"best\" set of hyperparameters."
   ]
  },
  {
   "cell_type": "code",
   "execution_count": 1,
   "metadata": {},
   "outputs": [],
   "source": [
    "# import block\n",
    "import matplotlib.pyplot as plt\n",
    "%matplotlib inline\n",
    "\n",
    "import pandas as pd\n",
    "import numpy as np\n",
    "\n",
    "from sklearn import preprocessing\n",
    "from sklearn.decomposition import PCA\n",
    "from sklearn.ensemble import RandomForestClassifier\n",
    "\n",
    "from coding_3 import *"
   ]
  },
  {
   "cell_type": "markdown",
   "metadata": {},
   "source": [
    "## 1. The Dataset"
   ]
  },
  {
   "cell_type": "code",
   "execution_count": 2,
   "metadata": {},
   "outputs": [
    {
     "name": "stdout",
     "output_type": "stream",
     "text": [
      "(6819, 96)\n"
     ]
    },
    {
     "data": {
      "text/html": [
       "<div>\n",
       "<style scoped>\n",
       "    .dataframe tbody tr th:only-of-type {\n",
       "        vertical-align: middle;\n",
       "    }\n",
       "\n",
       "    .dataframe tbody tr th {\n",
       "        vertical-align: top;\n",
       "    }\n",
       "\n",
       "    .dataframe thead th {\n",
       "        text-align: right;\n",
       "    }\n",
       "</style>\n",
       "<table border=\"1\" class=\"dataframe\">\n",
       "  <thead>\n",
       "    <tr style=\"text-align: right;\">\n",
       "      <th></th>\n",
       "      <th>Bankrupt?</th>\n",
       "      <th>ROA(C) before interest and depreciation before interest</th>\n",
       "      <th>ROA(A) before interest and % after tax</th>\n",
       "      <th>ROA(B) before interest and depreciation after tax</th>\n",
       "      <th>Operating Gross Margin</th>\n",
       "      <th>Realized Sales Gross Margin</th>\n",
       "      <th>Operating Profit Rate</th>\n",
       "      <th>Pre-tax net Interest Rate</th>\n",
       "      <th>After-tax net Interest Rate</th>\n",
       "      <th>Non-industry income and expenditure/revenue</th>\n",
       "      <th>...</th>\n",
       "      <th>Net Income to Total Assets</th>\n",
       "      <th>Total assets to GNP price</th>\n",
       "      <th>No-credit Interval</th>\n",
       "      <th>Gross Profit to Sales</th>\n",
       "      <th>Net Income to Stockholder's Equity</th>\n",
       "      <th>Liability to Equity</th>\n",
       "      <th>Degree of Financial Leverage (DFL)</th>\n",
       "      <th>Interest Coverage Ratio (Interest expense to EBIT)</th>\n",
       "      <th>Net Income Flag</th>\n",
       "      <th>Equity to Liability</th>\n",
       "    </tr>\n",
       "  </thead>\n",
       "  <tbody>\n",
       "    <tr>\n",
       "      <th>0</th>\n",
       "      <td>1</td>\n",
       "      <td>0.370594</td>\n",
       "      <td>0.424389</td>\n",
       "      <td>0.405750</td>\n",
       "      <td>0.601457</td>\n",
       "      <td>0.601457</td>\n",
       "      <td>0.998969</td>\n",
       "      <td>0.796887</td>\n",
       "      <td>0.808809</td>\n",
       "      <td>0.302646</td>\n",
       "      <td>...</td>\n",
       "      <td>0.716845</td>\n",
       "      <td>0.009219</td>\n",
       "      <td>0.622879</td>\n",
       "      <td>0.601453</td>\n",
       "      <td>0.827890</td>\n",
       "      <td>0.290202</td>\n",
       "      <td>0.026601</td>\n",
       "      <td>0.564050</td>\n",
       "      <td>1</td>\n",
       "      <td>0.016469</td>\n",
       "    </tr>\n",
       "    <tr>\n",
       "      <th>1</th>\n",
       "      <td>1</td>\n",
       "      <td>0.464291</td>\n",
       "      <td>0.538214</td>\n",
       "      <td>0.516730</td>\n",
       "      <td>0.610235</td>\n",
       "      <td>0.610235</td>\n",
       "      <td>0.998946</td>\n",
       "      <td>0.797380</td>\n",
       "      <td>0.809301</td>\n",
       "      <td>0.303556</td>\n",
       "      <td>...</td>\n",
       "      <td>0.795297</td>\n",
       "      <td>0.008323</td>\n",
       "      <td>0.623652</td>\n",
       "      <td>0.610237</td>\n",
       "      <td>0.839969</td>\n",
       "      <td>0.283846</td>\n",
       "      <td>0.264577</td>\n",
       "      <td>0.570175</td>\n",
       "      <td>1</td>\n",
       "      <td>0.020794</td>\n",
       "    </tr>\n",
       "    <tr>\n",
       "      <th>2</th>\n",
       "      <td>1</td>\n",
       "      <td>0.426071</td>\n",
       "      <td>0.499019</td>\n",
       "      <td>0.472295</td>\n",
       "      <td>0.601450</td>\n",
       "      <td>0.601364</td>\n",
       "      <td>0.998857</td>\n",
       "      <td>0.796403</td>\n",
       "      <td>0.808388</td>\n",
       "      <td>0.302035</td>\n",
       "      <td>...</td>\n",
       "      <td>0.774670</td>\n",
       "      <td>0.040003</td>\n",
       "      <td>0.623841</td>\n",
       "      <td>0.601449</td>\n",
       "      <td>0.836774</td>\n",
       "      <td>0.290189</td>\n",
       "      <td>0.026555</td>\n",
       "      <td>0.563706</td>\n",
       "      <td>1</td>\n",
       "      <td>0.016474</td>\n",
       "    </tr>\n",
       "    <tr>\n",
       "      <th>3</th>\n",
       "      <td>1</td>\n",
       "      <td>0.399844</td>\n",
       "      <td>0.451265</td>\n",
       "      <td>0.457733</td>\n",
       "      <td>0.583541</td>\n",
       "      <td>0.583541</td>\n",
       "      <td>0.998700</td>\n",
       "      <td>0.796967</td>\n",
       "      <td>0.808966</td>\n",
       "      <td>0.303350</td>\n",
       "      <td>...</td>\n",
       "      <td>0.739555</td>\n",
       "      <td>0.003252</td>\n",
       "      <td>0.622929</td>\n",
       "      <td>0.583538</td>\n",
       "      <td>0.834697</td>\n",
       "      <td>0.281721</td>\n",
       "      <td>0.026697</td>\n",
       "      <td>0.564663</td>\n",
       "      <td>1</td>\n",
       "      <td>0.023982</td>\n",
       "    </tr>\n",
       "    <tr>\n",
       "      <th>4</th>\n",
       "      <td>1</td>\n",
       "      <td>0.465022</td>\n",
       "      <td>0.538432</td>\n",
       "      <td>0.522298</td>\n",
       "      <td>0.598783</td>\n",
       "      <td>0.598783</td>\n",
       "      <td>0.998973</td>\n",
       "      <td>0.797366</td>\n",
       "      <td>0.809304</td>\n",
       "      <td>0.303475</td>\n",
       "      <td>...</td>\n",
       "      <td>0.795016</td>\n",
       "      <td>0.003878</td>\n",
       "      <td>0.623521</td>\n",
       "      <td>0.598782</td>\n",
       "      <td>0.839973</td>\n",
       "      <td>0.278514</td>\n",
       "      <td>0.024752</td>\n",
       "      <td>0.575617</td>\n",
       "      <td>1</td>\n",
       "      <td>0.035490</td>\n",
       "    </tr>\n",
       "  </tbody>\n",
       "</table>\n",
       "<p>5 rows × 96 columns</p>\n",
       "</div>"
      ],
      "text/plain": [
       "   Bankrupt?   ROA(C) before interest and depreciation before interest  \\\n",
       "0          1                                           0.370594          \n",
       "1          1                                           0.464291          \n",
       "2          1                                           0.426071          \n",
       "3          1                                           0.399844          \n",
       "4          1                                           0.465022          \n",
       "\n",
       "    ROA(A) before interest and % after tax  \\\n",
       "0                                 0.424389   \n",
       "1                                 0.538214   \n",
       "2                                 0.499019   \n",
       "3                                 0.451265   \n",
       "4                                 0.538432   \n",
       "\n",
       "    ROA(B) before interest and depreciation after tax  \\\n",
       "0                                           0.405750    \n",
       "1                                           0.516730    \n",
       "2                                           0.472295    \n",
       "3                                           0.457733    \n",
       "4                                           0.522298    \n",
       "\n",
       "    Operating Gross Margin   Realized Sales Gross Margin  \\\n",
       "0                 0.601457                      0.601457   \n",
       "1                 0.610235                      0.610235   \n",
       "2                 0.601450                      0.601364   \n",
       "3                 0.583541                      0.583541   \n",
       "4                 0.598783                      0.598783   \n",
       "\n",
       "    Operating Profit Rate   Pre-tax net Interest Rate  \\\n",
       "0                0.998969                    0.796887   \n",
       "1                0.998946                    0.797380   \n",
       "2                0.998857                    0.796403   \n",
       "3                0.998700                    0.796967   \n",
       "4                0.998973                    0.797366   \n",
       "\n",
       "    After-tax net Interest Rate   Non-industry income and expenditure/revenue  \\\n",
       "0                      0.808809                                      0.302646   \n",
       "1                      0.809301                                      0.303556   \n",
       "2                      0.808388                                      0.302035   \n",
       "3                      0.808966                                      0.303350   \n",
       "4                      0.809304                                      0.303475   \n",
       "\n",
       "   ...   Net Income to Total Assets   Total assets to GNP price  \\\n",
       "0  ...                     0.716845                    0.009219   \n",
       "1  ...                     0.795297                    0.008323   \n",
       "2  ...                     0.774670                    0.040003   \n",
       "3  ...                     0.739555                    0.003252   \n",
       "4  ...                     0.795016                    0.003878   \n",
       "\n",
       "    No-credit Interval   Gross Profit to Sales  \\\n",
       "0             0.622879                0.601453   \n",
       "1             0.623652                0.610237   \n",
       "2             0.623841                0.601449   \n",
       "3             0.622929                0.583538   \n",
       "4             0.623521                0.598782   \n",
       "\n",
       "    Net Income to Stockholder's Equity   Liability to Equity  \\\n",
       "0                             0.827890              0.290202   \n",
       "1                             0.839969              0.283846   \n",
       "2                             0.836774              0.290189   \n",
       "3                             0.834697              0.281721   \n",
       "4                             0.839973              0.278514   \n",
       "\n",
       "    Degree of Financial Leverage (DFL)  \\\n",
       "0                             0.026601   \n",
       "1                             0.264577   \n",
       "2                             0.026555   \n",
       "3                             0.026697   \n",
       "4                             0.024752   \n",
       "\n",
       "    Interest Coverage Ratio (Interest expense to EBIT)   Net Income Flag  \\\n",
       "0                                           0.564050                   1   \n",
       "1                                           0.570175                   1   \n",
       "2                                           0.563706                   1   \n",
       "3                                           0.564663                   1   \n",
       "4                                           0.575617                   1   \n",
       "\n",
       "    Equity to Liability  \n",
       "0              0.016469  \n",
       "1              0.020794  \n",
       "2              0.016474  \n",
       "3              0.023982  \n",
       "4              0.035490  \n",
       "\n",
       "[5 rows x 96 columns]"
      ]
     },
     "execution_count": 2,
     "metadata": {},
     "output_type": "execute_result"
    }
   ],
   "source": [
    "# import data\n",
    "data = np.genfromtxt(\"data.csv\", delimiter=',', skip_header=1)\n",
    "data_pd = pd.read_csv(\"data.csv\", sep=\",\")\n",
    "\n",
    "print(data.shape)\n",
    "data_pd.head()"
   ]
  },
  {
   "cell_type": "markdown",
   "metadata": {},
   "source": [
    "The dataset has 6819 rows and 96 columns. Each row represents a company. The first column `Bankrupt?` is the target I want to predict, and I will use the other 95 numerical features to train the mode. First I will need to standardize the numerical variables."
   ]
  },
  {
   "cell_type": "code",
   "execution_count": 3,
   "metadata": {},
   "outputs": [
    {
     "name": "stdout",
     "output_type": "stream",
     "text": [
      "(6819, 95)\n"
     ]
    },
    {
     "name": "stderr",
     "output_type": "stream",
     "text": [
      "C:\\Users\\15810\\miniconda3\\envs\\csc294\\lib\\site-packages\\sklearn\\preprocessing\\_data.py:194: UserWarning: Numerical issues were encountered when centering the data and might not be solved. Dataset may contain too large values. You may need to prescale your features.\n",
      "  warnings.warn(\"Numerical issues were encountered \"\n"
     ]
    },
    {
     "data": {
      "text/html": [
       "<div>\n",
       "<style scoped>\n",
       "    .dataframe tbody tr th:only-of-type {\n",
       "        vertical-align: middle;\n",
       "    }\n",
       "\n",
       "    .dataframe tbody tr th {\n",
       "        vertical-align: top;\n",
       "    }\n",
       "\n",
       "    .dataframe thead th {\n",
       "        text-align: right;\n",
       "    }\n",
       "</style>\n",
       "<table border=\"1\" class=\"dataframe\">\n",
       "  <thead>\n",
       "    <tr style=\"text-align: right;\">\n",
       "      <th></th>\n",
       "      <th>0</th>\n",
       "      <th>1</th>\n",
       "      <th>2</th>\n",
       "      <th>3</th>\n",
       "      <th>4</th>\n",
       "      <th>5</th>\n",
       "      <th>6</th>\n",
       "      <th>7</th>\n",
       "      <th>8</th>\n",
       "      <th>9</th>\n",
       "      <th>...</th>\n",
       "      <th>85</th>\n",
       "      <th>86</th>\n",
       "      <th>87</th>\n",
       "      <th>88</th>\n",
       "      <th>89</th>\n",
       "      <th>90</th>\n",
       "      <th>91</th>\n",
       "      <th>92</th>\n",
       "      <th>93</th>\n",
       "      <th>94</th>\n",
       "    </tr>\n",
       "  </thead>\n",
       "  <tbody>\n",
       "    <tr>\n",
       "      <th>0</th>\n",
       "      <td>-2.217909</td>\n",
       "      <td>-2.045798</td>\n",
       "      <td>-2.400361</td>\n",
       "      <td>-0.383334</td>\n",
       "      <td>-0.382638</td>\n",
       "      <td>0.016456</td>\n",
       "      <td>-0.023516</td>\n",
       "      <td>-0.020165</td>\n",
       "      <td>-0.087479</td>\n",
       "      <td>-0.031281</td>\n",
       "      <td>...</td>\n",
       "      <td>-2.254317</td>\n",
       "      <td>-0.049491</td>\n",
       "      <td>-0.084274</td>\n",
       "      <td>-0.383465</td>\n",
       "      <td>-0.861611</td>\n",
       "      <td>0.680171</td>\n",
       "      <td>-0.060031</td>\n",
       "      <td>-0.098978</td>\n",
       "      <td>0.0</td>\n",
       "      <td>-0.622067</td>\n",
       "    </tr>\n",
       "    <tr>\n",
       "      <th>1</th>\n",
       "      <td>-0.673828</td>\n",
       "      <td>-0.311068</td>\n",
       "      <td>-0.598450</td>\n",
       "      <td>0.135068</td>\n",
       "      <td>0.136307</td>\n",
       "      <td>0.014671</td>\n",
       "      <td>0.014799</td>\n",
       "      <td>0.015966</td>\n",
       "      <td>-0.005957</td>\n",
       "      <td>0.009823</td>\n",
       "      <td>...</td>\n",
       "      <td>-0.309033</td>\n",
       "      <td>-0.049491</td>\n",
       "      <td>-0.021388</td>\n",
       "      <td>0.135253</td>\n",
       "      <td>-0.029804</td>\n",
       "      <td>0.240685</td>\n",
       "      <td>15.129816</td>\n",
       "      <td>0.364559</td>\n",
       "      <td>0.0</td>\n",
       "      <td>-0.535573</td>\n",
       "    </tr>\n",
       "    <tr>\n",
       "      <th>2</th>\n",
       "      <td>-1.303672</td>\n",
       "      <td>-0.908420</td>\n",
       "      <td>-1.319910</td>\n",
       "      <td>-0.383759</td>\n",
       "      <td>-0.388177</td>\n",
       "      <td>0.007858</td>\n",
       "      <td>-0.061111</td>\n",
       "      <td>-0.051183</td>\n",
       "      <td>-0.142238</td>\n",
       "      <td>-0.086566</td>\n",
       "      <td>...</td>\n",
       "      <td>-0.820510</td>\n",
       "      <td>-0.049491</td>\n",
       "      <td>-0.005984</td>\n",
       "      <td>-0.383698</td>\n",
       "      <td>-0.249820</td>\n",
       "      <td>0.679247</td>\n",
       "      <td>-0.062961</td>\n",
       "      <td>-0.125015</td>\n",
       "      <td>0.0</td>\n",
       "      <td>-0.621960</td>\n",
       "    </tr>\n",
       "    <tr>\n",
       "      <th>3</th>\n",
       "      <td>-1.735886</td>\n",
       "      <td>-1.636209</td>\n",
       "      <td>-1.556340</td>\n",
       "      <td>-1.441418</td>\n",
       "      <td>-1.441832</td>\n",
       "      <td>-0.004257</td>\n",
       "      <td>-0.017313</td>\n",
       "      <td>-0.008676</td>\n",
       "      <td>-0.024491</td>\n",
       "      <td>-0.011077</td>\n",
       "      <td>...</td>\n",
       "      <td>-1.691222</td>\n",
       "      <td>-0.049491</td>\n",
       "      <td>-0.080226</td>\n",
       "      <td>-1.441526</td>\n",
       "      <td>-0.392864</td>\n",
       "      <td>0.093765</td>\n",
       "      <td>-0.053903</td>\n",
       "      <td>-0.052562</td>\n",
       "      <td>0.0</td>\n",
       "      <td>-0.471826</td>\n",
       "    </tr>\n",
       "    <tr>\n",
       "      <th>4</th>\n",
       "      <td>-0.661778</td>\n",
       "      <td>-0.307745</td>\n",
       "      <td>-0.508050</td>\n",
       "      <td>-0.541238</td>\n",
       "      <td>-0.540708</td>\n",
       "      <td>0.016758</td>\n",
       "      <td>0.013703</td>\n",
       "      <td>0.016186</td>\n",
       "      <td>-0.013254</td>\n",
       "      <td>0.013300</td>\n",
       "      <td>...</td>\n",
       "      <td>-0.316008</td>\n",
       "      <td>-0.049491</td>\n",
       "      <td>-0.032052</td>\n",
       "      <td>-0.541255</td>\n",
       "      <td>-0.029564</td>\n",
       "      <td>-0.128014</td>\n",
       "      <td>-0.178037</td>\n",
       "      <td>0.776395</td>\n",
       "      <td>0.0</td>\n",
       "      <td>-0.241715</td>\n",
       "    </tr>\n",
       "  </tbody>\n",
       "</table>\n",
       "<p>5 rows × 95 columns</p>\n",
       "</div>"
      ],
      "text/plain": [
       "         0         1         2         3         4         5         6   \\\n",
       "0 -2.217909 -2.045798 -2.400361 -0.383334 -0.382638  0.016456 -0.023516   \n",
       "1 -0.673828 -0.311068 -0.598450  0.135068  0.136307  0.014671  0.014799   \n",
       "2 -1.303672 -0.908420 -1.319910 -0.383759 -0.388177  0.007858 -0.061111   \n",
       "3 -1.735886 -1.636209 -1.556340 -1.441418 -1.441832 -0.004257 -0.017313   \n",
       "4 -0.661778 -0.307745 -0.508050 -0.541238 -0.540708  0.016758  0.013703   \n",
       "\n",
       "         7         8         9   ...        85        86        87        88  \\\n",
       "0 -0.020165 -0.087479 -0.031281  ... -2.254317 -0.049491 -0.084274 -0.383465   \n",
       "1  0.015966 -0.005957  0.009823  ... -0.309033 -0.049491 -0.021388  0.135253   \n",
       "2 -0.051183 -0.142238 -0.086566  ... -0.820510 -0.049491 -0.005984 -0.383698   \n",
       "3 -0.008676 -0.024491 -0.011077  ... -1.691222 -0.049491 -0.080226 -1.441526   \n",
       "4  0.016186 -0.013254  0.013300  ... -0.316008 -0.049491 -0.032052 -0.541255   \n",
       "\n",
       "         89        90         91        92   93        94  \n",
       "0 -0.861611  0.680171  -0.060031 -0.098978  0.0 -0.622067  \n",
       "1 -0.029804  0.240685  15.129816  0.364559  0.0 -0.535573  \n",
       "2 -0.249820  0.679247  -0.062961 -0.125015  0.0 -0.621960  \n",
       "3 -0.392864  0.093765  -0.053903 -0.052562  0.0 -0.471826  \n",
       "4 -0.029564 -0.128014  -0.178037  0.776395  0.0 -0.241715  \n",
       "\n",
       "[5 rows x 95 columns]"
      ]
     },
     "execution_count": 3,
     "metadata": {},
     "output_type": "execute_result"
    }
   ],
   "source": [
    "# standardize the data (except for the first column)\n",
    "target = data_pd.iloc[:, 0]\n",
    "features = data_pd.iloc[:, 1:]\n",
    "features_std = preprocessing.scale(features)\n",
    "\n",
    "print(features_std.shape)\n",
    "pd.DataFrame(features_std).head()"
   ]
  },
  {
   "cell_type": "markdown",
   "metadata": {},
   "source": [
    "I will split the dataset into two sets: the train/test dataset and the validation dataset. I will use cross-validation and fit models on the train/test dataset to decide the set of hyperparameters I should use, fit a model with the best set of hyperparameters on the train/test dataset, and test the model on the validation dataset. The validation dataset contains 15% of all data points."
   ]
  },
  {
   "cell_type": "code",
   "execution_count": 4,
   "metadata": {},
   "outputs": [],
   "source": [
    "# split the dataset into validation and train/test sets\n",
    "# the validation dataset contains 15% of all data points\n",
    "\n",
    "all_data = np.hstack([pd.DataFrame(target), features_std])\n",
    "val, data = split_val_data(all_data, 15)\n",
    "\n",
    "val_feature = val[:, 1:]\n",
    "val_target = val[:, 0]\n",
    "\n",
    "data_feature = data[:, 1:]\n",
    "data_target = data[:, 0]"
   ]
  },
  {
   "cell_type": "code",
   "execution_count": 5,
   "metadata": {},
   "outputs": [
    {
     "name": "stdout",
     "output_type": "stream",
     "text": [
      "(5797,)\n",
      "\n",
      "(5797, 95)\n"
     ]
    }
   ],
   "source": [
    "print(data_target.shape)\n",
    "print()\n",
    "print(data_feature.shape)"
   ]
  },
  {
   "cell_type": "markdown",
   "metadata": {},
   "source": [
    "## 2. Dimension Reduction with PCA\n",
    "\n",
    "The data has 6819 rows. Except for the first column `Bankrupt?` (boolean), there are 95 numerical features that I can use to predict `Bankrupt?`. 95 features are a lot and may slow down the calculation significantly. Therefore, I will first use PCA to reduce the dimension of this dataset."
   ]
  },
  {
   "cell_type": "code",
   "execution_count": 6,
   "metadata": {},
   "outputs": [
    {
     "name": "stdout",
     "output_type": "stream",
     "text": [
      "(6819, 3)\n"
     ]
    },
    {
     "data": {
      "text/html": [
       "<div>\n",
       "<style scoped>\n",
       "    .dataframe tbody tr th:only-of-type {\n",
       "        vertical-align: middle;\n",
       "    }\n",
       "\n",
       "    .dataframe tbody tr th {\n",
       "        vertical-align: top;\n",
       "    }\n",
       "\n",
       "    .dataframe thead th {\n",
       "        text-align: right;\n",
       "    }\n",
       "</style>\n",
       "<table border=\"1\" class=\"dataframe\">\n",
       "  <thead>\n",
       "    <tr style=\"text-align: right;\">\n",
       "      <th></th>\n",
       "      <th>pc1</th>\n",
       "      <th>pc2</th>\n",
       "      <th>pc3</th>\n",
       "    </tr>\n",
       "  </thead>\n",
       "  <tbody>\n",
       "    <tr>\n",
       "      <th>0</th>\n",
       "      <td>-7.338295</td>\n",
       "      <td>0.373334</td>\n",
       "      <td>0.309975</td>\n",
       "    </tr>\n",
       "    <tr>\n",
       "      <th>1</th>\n",
       "      <td>-2.703713</td>\n",
       "      <td>-0.986389</td>\n",
       "      <td>2.154398</td>\n",
       "    </tr>\n",
       "    <tr>\n",
       "      <th>2</th>\n",
       "      <td>-4.307058</td>\n",
       "      <td>-0.404734</td>\n",
       "      <td>0.308670</td>\n",
       "    </tr>\n",
       "    <tr>\n",
       "      <th>3</th>\n",
       "      <td>-5.830736</td>\n",
       "      <td>-1.385627</td>\n",
       "      <td>1.302050</td>\n",
       "    </tr>\n",
       "    <tr>\n",
       "      <th>4</th>\n",
       "      <td>-2.343198</td>\n",
       "      <td>-0.201577</td>\n",
       "      <td>-0.802507</td>\n",
       "    </tr>\n",
       "  </tbody>\n",
       "</table>\n",
       "</div>"
      ],
      "text/plain": [
       "        pc1       pc2       pc3\n",
       "0 -7.338295  0.373334  0.309975\n",
       "1 -2.703713 -0.986389  2.154398\n",
       "2 -4.307058 -0.404734  0.308670\n",
       "3 -5.830736 -1.385627  1.302050\n",
       "4 -2.343198 -0.201577 -0.802507"
      ]
     },
     "execution_count": 6,
     "metadata": {},
     "output_type": "execute_result"
    }
   ],
   "source": [
    "# implement PCA\n",
    "# In order to visualize the data, I will reduce the dimension to 3\n",
    "pca = PCA(n_components=3)\n",
    "features_lowdim = pca.fit_transform(features_std)\n",
    "features_lowdim_pd = pd.DataFrame(data=features_lowdim, columns=['pc1', 'pc2', 'pc3'])\n",
    "\n",
    "print(features_lowdim_pd.shape)\n",
    "features_lowdim_pd.head()"
   ]
  },
  {
   "cell_type": "code",
   "execution_count": 7,
   "metadata": {},
   "outputs": [
    {
     "data": {
      "image/png": "[encoded data removed]",
      "text/plain": [
       "<Figure size 504x504 with 1 Axes>"
      ]
     },
     "metadata": {
      "needs_background": "light"
     },
     "output_type": "display_data"
    }
   ],
   "source": [
    "# visualize the data after dimension reduction\n",
    "fig = plt.figure(figsize=(7, 7))\n",
    "ax = plt.axes(projection='3d')\n",
    "ax.scatter(features_lowdim[:, 0], features_lowdim[:, 1], features_lowdim[:, 2], c=target, cmap='bwr');"
   ]
  },
  {
   "cell_type": "code",
   "execution_count": 8,
   "metadata": {},
   "outputs": [],
   "source": [
    "# also split the dataset after dimension reduction into validation and train/test sets\n",
    "# for later us when fitting models\n",
    "\n",
    "reduced_all_data = np.hstack([pd.DataFrame(target), features_lowdim_pd])\n",
    "reduced_val, data = split_val_data(all_data, 15)\n",
    "\n",
    "reduced_val_feature = val[:, 1:]\n",
    "reduced_val_target = val[:, 0]\n",
    "\n",
    "reduced_feature = data[:, 1:]\n",
    "reduced_target = data[:, 0]"
   ]
  },
  {
   "cell_type": "code",
   "execution_count": 9,
   "metadata": {},
   "outputs": [
    {
     "name": "stdout",
     "output_type": "stream",
     "text": [
      "(5797,)\n",
      "\n",
      "(5797, 95)\n"
     ]
    }
   ],
   "source": [
    "print(reduced_target.shape)\n",
    "print()\n",
    "print(reduced_feature.shape)"
   ]
  },
  {
   "cell_type": "markdown",
   "metadata": {},
   "source": [
    "## 3. Random Forest & Cross-Validation\n",
    "\n",
    "Before fitting a model, I will need to decide:\n",
    "\n",
    "* should I fit a model on the dataset before or after dimension reduction\n",
    "* what hyperparameters I should use when fitting a model\n",
    "\n",
    "In this section, I will implement 10-fold cross-validation on random forest models with different hyperparameters and input datasets. I will decide on the hyperparameters as well as input datasets.\n",
    "\n",
    "### 3.1. Without Dimension Reduction and Change `max_features`"
   ]
  },
  {
   "cell_type": "code",
   "execution_count": 10,
   "metadata": {},
   "outputs": [
    {
     "data": {
      "text/plain": [
       "0.03071790246806604"
      ]
     },
     "execution_count": 10,
     "metadata": {},
     "output_type": "execute_result"
    }
   ],
   "source": [
    "all_error_1 = random_forest_cross_val(10, data_feature, data_target, 20, 5, max_features=5)\n",
    "all_error_1"
   ]
  },
  {
   "cell_type": "code",
   "execution_count": 11,
   "metadata": {},
   "outputs": [
    {
     "data": {
      "text/plain": [
       "0.03227436972065524"
      ]
     },
     "execution_count": 11,
     "metadata": {},
     "output_type": "execute_result"
    }
   ],
   "source": [
    "all_error_2 = random_forest_cross_val(10, data_feature, data_target, 20, 5, max_features=10)\n",
    "all_error_2"
   ]
  },
  {
   "cell_type": "code",
   "execution_count": 12,
   "metadata": {},
   "outputs": [
    {
     "data": {
      "text/plain": [
       "0.031238100290603428"
      ]
     },
     "execution_count": 12,
     "metadata": {},
     "output_type": "execute_result"
    }
   ],
   "source": [
    "all_error_3 = random_forest_cross_val(10, data_feature, data_target, 20, 5, max_features=20)\n",
    "all_error_3"
   ]
  },
  {
   "cell_type": "code",
   "execution_count": 13,
   "metadata": {},
   "outputs": [
    {
     "data": {
      "text/plain": [
       "0.031065388718928128"
      ]
     },
     "execution_count": 13,
     "metadata": {},
     "output_type": "execute_result"
    }
   ],
   "source": [
    "all_error_4 = random_forest_cross_val(10, data_feature, data_target, 20, 5, max_features=30)\n",
    "all_error_4"
   ]
  },
  {
   "cell_type": "code",
   "execution_count": 14,
   "metadata": {},
   "outputs": [
    {
     "data": {
      "text/plain": [
       "0.031065388718928128"
      ]
     },
     "execution_count": 14,
     "metadata": {},
     "output_type": "execute_result"
    }
   ],
   "source": [
    "all_error_5 = random_forest_cross_val(10, data_feature, data_target, 20, 5, max_features=40)\n",
    "all_error_5"
   ]
  },
  {
   "cell_type": "code",
   "execution_count": 15,
   "metadata": {},
   "outputs": [
    {
     "data": {
      "text/plain": [
       "0.030029119288876315"
      ]
     },
     "execution_count": 15,
     "metadata": {},
     "output_type": "execute_result"
    }
   ],
   "source": [
    "all_error_6 = random_forest_cross_val(10, data_feature, data_target, 20, 5, max_features=50)\n",
    "all_error_6"
   ]
  },
  {
   "cell_type": "markdown",
   "metadata": {},
   "source": [
    "### 3.2. With Dimension Reduction and Change `max_depth`"
   ]
  },
  {
   "cell_type": "code",
   "execution_count": 16,
   "metadata": {},
   "outputs": [
    {
     "data": {
      "text/plain": [
       "0.03209753193395698"
      ]
     },
     "execution_count": 16,
     "metadata": {},
     "output_type": "execute_result"
    }
   ],
   "source": [
    "red_error_1 = random_forest_cross_val(10, reduced_feature, reduced_target, 20, 3, 3)\n",
    "red_error_1"
   ]
  },
  {
   "cell_type": "code",
   "execution_count": 17,
   "metadata": {},
   "outputs": [
    {
     "data": {
      "text/plain": [
       "0.031238100290603428"
      ]
     },
     "execution_count": 17,
     "metadata": {},
     "output_type": "execute_result"
    }
   ],
   "source": [
    "red_error_2 = random_forest_cross_val(10, reduced_feature, reduced_target, 20, 5, 3)\n",
    "red_error_2"
   ]
  },
  {
   "cell_type": "code",
   "execution_count": 18,
   "metadata": {},
   "outputs": [
    {
     "data": {
      "text/plain": [
       "0.03106332561141665"
      ]
     },
     "execution_count": 18,
     "metadata": {},
     "output_type": "execute_result"
    }
   ],
   "source": [
    "red_error_3 = random_forest_cross_val(10, reduced_feature, reduced_target, 20, 7, 3)\n",
    "red_error_3"
   ]
  },
  {
   "cell_type": "code",
   "execution_count": 19,
   "metadata": {},
   "outputs": [
    {
     "data": {
      "text/plain": [
       "0.03141287496979021"
      ]
     },
     "execution_count": 19,
     "metadata": {},
     "output_type": "execute_result"
    }
   ],
   "source": [
    "red_error_4 = random_forest_cross_val(10, reduced_feature, reduced_target, 20, 10, 3)\n",
    "red_error_4"
   ]
  },
  {
   "cell_type": "code",
   "execution_count": 20,
   "metadata": {},
   "outputs": [
    {
     "data": {
      "text/plain": [
       "0.031240163398114907"
      ]
     },
     "execution_count": 20,
     "metadata": {},
     "output_type": "execute_result"
    }
   ],
   "source": [
    "red_error_5 = random_forest_cross_val(10, reduced_feature, reduced_target, 20, 15, 3)\n",
    "red_error_5"
   ]
  },
  {
   "cell_type": "markdown",
   "metadata": {},
   "source": [
    "## 4. Tune the Best Model\n",
    "\n",
    "Each time I run the codes, I get slightly different cross-val errors, but all cross-val errors are always very close and very small. In the last run, the smallest cross-validated error got in section 3 is 0.0300. The input dataset/hyperparameters are\n",
    "\n",
    "* input dataset: without dimension reduction  \n",
    "* n_estimators: 20  \n",
    "* max_depth: 5  \n",
    "* max_features: 50"
   ]
  },
  {
   "cell_type": "code",
   "execution_count": 24,
   "metadata": {},
   "outputs": [
    {
     "data": {
      "text/plain": [
       "RandomForestClassifier(max_depth=5, max_features=50, n_estimators=20,\n",
       "                       random_state=2021)"
      ]
     },
     "execution_count": 24,
     "metadata": {},
     "output_type": "execute_result"
    }
   ],
   "source": [
    "# tune the model\n",
    "rf = RandomForestClassifier(n_estimators=20, max_depth=5, max_features=50, random_state=2021)\n",
    "rf.fit(data_feature, data_target)"
   ]
  },
  {
   "cell_type": "code",
   "execution_count": 25,
   "metadata": {},
   "outputs": [
    {
     "data": {
      "text/plain": [
       "0.9667318982387475"
      ]
     },
     "execution_count": 25,
     "metadata": {},
     "output_type": "execute_result"
    }
   ],
   "source": [
    "# mean accuracy\n",
    "rf.score(val_feature, val_target)"
   ]
  },
  {
   "cell_type": "markdown",
   "metadata": {},
   "source": [
    "I fit the model on the train/test dataset before dimension reduction and test the model on the validation dataset. The mean accuracy is 0.9667."
   ]
  }
 ],
 "metadata": {
  "kernelspec": {
   "display_name": "Python 3",
   "language": "python",
   "name": "python3"
  },
  "language_info": {
   "codemirror_mode": {
    "name": "ipython",
    "version": 3
   },
   "file_extension": ".py",
   "mimetype": "text/x-python",
   "name": "python",
   "nbconvert_exporter": "python",
   "pygments_lexer": "ipython3",
   "version": "3.8.10"
  }
 },
 "nbformat": 4,
 "nbformat_minor": 2
}
