{
 "cells": [
  {
   "cell_type": "markdown",
   "id": "selective-blink",
   "metadata": {},
   "source": [
    "# Question 2: Question 2: Choosing k using elbowology\n",
    "\n",
    "## Part A"
   ]
  },
  {
   "cell_type": "code",
   "execution_count": 2,
   "id": "light-regard",
   "metadata": {},
   "outputs": [],
   "source": [
    "import pandas as pd\n",
    "import numpy as np\n",
    "from hw2 import *\n",
    "from sklearn.cluster import KMeans\n",
    "from scipy.spatial import distance"
   ]
  },
  {
   "cell_type": "code",
   "execution_count": 3,
   "id": "designed-training",
   "metadata": {},
   "outputs": [
    {
     "data": {
      "text/html": [
       "<div>\n",
       "<style scoped>\n",
       "    .dataframe tbody tr th:only-of-type {\n",
       "        vertical-align: middle;\n",
       "    }\n",
       "\n",
       "    .dataframe tbody tr th {\n",
       "        vertical-align: top;\n",
       "    }\n",
       "\n",
       "    .dataframe thead th {\n",
       "        text-align: right;\n",
       "    }\n",
       "</style>\n",
       "<table border=\"1\" class=\"dataframe\">\n",
       "  <thead>\n",
       "    <tr style=\"text-align: right;\">\n",
       "      <th></th>\n",
       "      <th>coffee</th>\n",
       "      <th>month</th>\n",
       "      <th>sleep</th>\n",
       "      <th>gym</th>\n",
       "      <th>color</th>\n",
       "      <th>gpa</th>\n",
       "    </tr>\n",
       "  </thead>\n",
       "  <tbody>\n",
       "    <tr>\n",
       "      <th>0</th>\n",
       "      <td>0.7</td>\n",
       "      <td>apr</td>\n",
       "      <td>6.14</td>\n",
       "      <td>59.0</td>\n",
       "      <td>yellow</td>\n",
       "      <td>3.79</td>\n",
       "    </tr>\n",
       "    <tr>\n",
       "      <th>1</th>\n",
       "      <td>2.0</td>\n",
       "      <td>jun</td>\n",
       "      <td>6.98</td>\n",
       "      <td>111.0</td>\n",
       "      <td>green</td>\n",
       "      <td>2.34</td>\n",
       "    </tr>\n",
       "    <tr>\n",
       "      <th>2</th>\n",
       "      <td>1.5</td>\n",
       "      <td>sep</td>\n",
       "      <td>7.25</td>\n",
       "      <td>52.0</td>\n",
       "      <td>yellow</td>\n",
       "      <td>3.55</td>\n",
       "    </tr>\n",
       "  </tbody>\n",
       "</table>\n",
       "</div>"
      ],
      "text/plain": [
       "   coffee month  sleep    gym   color   gpa\n",
       "0     0.7   apr   6.14   59.0  yellow  3.79\n",
       "1     2.0   jun   6.98  111.0   green  2.34\n",
       "2     1.5   sep   7.25   52.0  yellow  3.55"
      ]
     },
     "execution_count": 3,
     "metadata": {},
     "output_type": "execute_result"
    }
   ],
   "source": [
    "students = pd.read_csv(\"students_info.csv\")\n",
    "students.head(3)"
   ]
  },
  {
   "cell_type": "code",
   "execution_count": 4,
   "id": "stretch-clothing",
   "metadata": {},
   "outputs": [],
   "source": [
    "gym_coffee = students[[\"gym\",\"coffee\"]].to_numpy()\n",
    "sleep_gpa = students[[\"sleep\",\"gpa\"]].to_numpy()\n",
    "all_num = students[[\"coffee\",\"sleep\", \"gym\", \"gpa\"]].to_numpy()"
   ]
  },
  {
   "cell_type": "code",
   "execution_count": 5,
   "id": "hired-carter",
   "metadata": {},
   "outputs": [],
   "source": [
    "gym_coffee_sse = looping_kmeans(gym_coffee, range(1, 11))\n",
    "sleep_gpa_sse = looping_kmeans(sleep_gpa, range(1, 11))\n",
    "all_num_sse = looping_kmeans(all_num, range(1, 11))"
   ]
  },
  {
   "cell_type": "code",
   "execution_count": 6,
   "id": "israeli-point",
   "metadata": {},
   "outputs": [
    {
     "data": {
      "image/png": "[encoded data removed]",
      "text/plain": [
       "<Figure size 432x288 with 1 Axes>"
      ]
     },
     "metadata": {
      "needs_background": "light"
     },
     "output_type": "display_data"
    }
   ],
   "source": [
    "plt.plot(range(1, 11), gym_coffee_sse, marker='o', label='gym and coffee')\n",
    "plt.plot(range(1, 11), sleep_gpa_sse, marker='o', label='sleep and gpa')\n",
    "plt.plot(range(1, 11), all_num_sse, marker='o', label='coffee, sleep, gym, and gpa')\n",
    "\n",
    "plt.xlabel('Number of Clusters')\n",
    "plt.ylabel('Within-Cluster SSE')\n",
    "plt.legend()\n",
    "plt.title('Within-cluster SSE vs. Number of Clusters')\n",
    "plt.show()"
   ]
  },
  {
   "cell_type": "markdown",
   "id": "traditional-multiple",
   "metadata": {},
   "source": [
    "1. gym and coffe: the value of k that is closest to the \"elbow\" is 4.\n",
    "1. sleep and gpa: the value of k that is closest to the \"elbow\" is 3.\n",
    "1. all numerical variabls: the value of k that is closest to the \"elbow\" is 2.\n",
    "\n",
    "## Part B\n",
    "\n",
    "I think our students fall into 4 clusters. For the combination of sleep and gpa (orange line) and all numerical variables (green line), the no-so-obvious \"elbows\" are at about _k=3_ and _k=2_ respectively. However, there is a clear elbow at _k=4_ in the combination of gym and coffee (blue line). Since more clusters are noticed in the combination of gym and coffee, it is very possible that there're some clusters not detected in other two combinations, so we should go with the greatest k. Therefore, I think there are at least 4 clusters in the sample (though Smithies cannot be categorized anyways)."
   ]
  },
  {
   "cell_type": "markdown",
   "id": "final-logistics",
   "metadata": {},
   "source": [
    "# Question 3: Limitations of k-means\n",
    "\n",
    "1. _Numerical_ variables: k-means works for numerical variables. For instance, in this homework, we use numerical variables gpa, sleep, coffee, and gym to categorize Smithies. Calculating distances and center points are clearly doable with numerical variables.\n",
    "1. _Categorical_ variables: k-means does not work for categorical variables. A counter example is beverage preference. There are multiple options for beverage: coffee, tee, sparkling water, coke, and so on. We cannot assign values to different beverages.\n",
    "1. _Ordinal_ variables: k-means works for ordinal variables. Variables like birth month have commonly agreed numerical values (1 for January and 2 for February), so they can be treated like numerical values."
   ]
  }
 ],
 "metadata": {
  "kernelspec": {
   "display_name": "Python 3",
   "language": "python",
   "name": "python3"
  },
  "language_info": {
   "codemirror_mode": {
    "name": "ipython",
    "version": 3
   },
   "file_extension": ".py",
   "mimetype": "text/x-python",
   "name": "python",
   "nbconvert_exporter": "python",
   "pygments_lexer": "ipython3",
   "version": "3.8.8"
  }
 },
 "nbformat": 4,
 "nbformat_minor": 5
}
