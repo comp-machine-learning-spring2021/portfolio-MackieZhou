{
 "cells": [
  {
   "cell_type": "code",
   "execution_count": 2,
   "id": "rolled-wiring",
   "metadata": {},
   "outputs": [],
   "source": [
    "import pandas as pd\n",
    "import numpy as np\n",
    "from sklearn.cluster import KMeans\n",
    "from scipy.spatial import distance"
   ]
  },
  {
   "cell_type": "code",
   "execution_count": 3,
   "id": "executive-springfield",
   "metadata": {},
   "outputs": [],
   "source": [
    "students = pd.read_csv(\"students_info.csv\")\n",
    "justtwo_np = students[[\"sleep\",\"coffee\"]].to_numpy()"
   ]
  },
  {
   "cell_type": "code",
   "execution_count": 13,
   "id": "quantitative-cameroon",
   "metadata": {},
   "outputs": [
    {
     "data": {
      "text/plain": [
       "300"
      ]
     },
     "execution_count": 13,
     "metadata": {},
     "output_type": "execute_result"
    }
   ],
   "source": [
    "justtwo_np.shape[0]"
   ]
  },
  {
   "cell_type": "code",
   "execution_count": 67,
   "id": "practical-andrews",
   "metadata": {},
   "outputs": [],
   "source": [
    "def calculate_within_cluster_sse(fit, data):\n",
    "    \"\"\"\n",
    "    fit: the fit get from sklearn\n",
    "    data: a numpy array\n",
    "    \"\"\"\n",
    "    SSE = 0\n",
    "\n",
    "    # Loop over all clusters\n",
    "    for c in range(len(fit.cluster_centers_)):\n",
    "        # Extract the cluster's center and associated points:\n",
    "        cluster_center = [fit.cluster_centers_[c]]\n",
    "        cluster_points = data[np.where(fit.labels_ == c)]\n",
    "        # Compute the following for each cluster:\n",
    "        cluster_spread = distance.cdist(cluster_points, cluster_center, 'euclidean')\n",
    "        cluster_total = np.sum(cluster_spread)\n",
    "        # Add this cluster's within sum of squares to within_cluster_sumsqs\n",
    "        SSE += cluster_total\n",
    "        \n",
    "    return SSE"
   ]
  },
  {
   "cell_type": "code",
   "execution_count": 68,
   "id": "appreciated-latitude",
   "metadata": {},
   "outputs": [],
   "source": [
    "def looping_kmeans(data, kList):\n",
    "    \"\"\"\n",
    "    data: a numpy array\n",
    "    kList: a list of all k values\n",
    "    \"\"\"\n",
    "    \n",
    "    # 1. normalize the data\n",
    "    shape = data.shape\n",
    "    data_norm = np.empty([shape[0],0])\n",
    "    \n",
    "    for i in range(shape[1]):\n",
    "        var = data[:,i]\n",
    "        mx = np.max(var)\n",
    "        mn = np.min(var)\n",
    "\n",
    "        var_norm = (var - mn)/(mx - mn)\n",
    "        var_norm = np.around(var_norm, decimals = 2)\n",
    "        data_norm = np.hstack((data_norm, np.array([var_norm]).transpose()))\n",
    "        \n",
    "    # 2. calculate within-cluster SSE for each K\n",
    "    SSE_list = []\n",
    "    for i in kList:\n",
    "        km = KMeans(n_clusters=i, init=\"k-means++\", random_state = 1, max_iter = 200)\n",
    "        fit = km.fit(data_norm)\n",
    "        SSE = calculate_within_cluster_sse(fit, data_norm)\n",
    "        SSE_list.append(SSE)\n",
    "\n",
    "    return SSE_list"
   ]
  },
  {
   "cell_type": "code",
   "execution_count": 69,
   "id": "competent-croatia",
   "metadata": {},
   "outputs": [
    {
     "name": "stdout",
     "output_type": "stream",
     "text": [
      "[93.0346530174882, 69.58881417527036, 54.56236696521816, 49.52734745444229, 42.724192778743664, 36.99089389387997, 34.136722598193174, 31.923517354038758, 29.771168801295513]\n"
     ]
    }
   ],
   "source": [
    "justtwo_norm = looping_kmeans(justtwo_np, range(1,10))\n",
    "print(justtwo_norm)"
   ]
  },
  {
   "cell_type": "code",
   "execution_count": null,
   "id": "analyzed-start",
   "metadata": {},
   "outputs": [],
   "source": []
  }
 ],
 "metadata": {
  "kernelspec": {
   "display_name": "Python 3",
   "language": "python",
   "name": "python3"
  },
  "language_info": {
   "codemirror_mode": {
    "name": "ipython",
    "version": 3
   },
   "file_extension": ".py",
   "mimetype": "text/x-python",
   "name": "python",
   "nbconvert_exporter": "python",
   "pygments_lexer": "ipython3",
   "version": "3.8.8"
  }
 },
 "nbformat": 4,
 "nbformat_minor": 5
}
