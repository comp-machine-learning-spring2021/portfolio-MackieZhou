{
 "cells": [
  {
   "cell_type": "markdown",
   "metadata": {},
   "source": [
    "# Unsupervised ML: High Value Customers Identification\n",
    "\n",
    "\n",
    "Customer segmentation is a classical clustering problem. Companies want to divide customers into groups that have similar purchase behaviors to better promote their products, increase customer retention, and maximize benefits for the business<sup>1</sup>.\n",
    "\n",
    "In this project, I will use the [High-Value Customers Identification](https://www.kaggle.com/vik2012kvs/high-value-customers-identification) dataset from Kaggle. The dataset contains sales data from a UK-based online retail company over the period of November 2016 to December 2017. The goal of the project is to separate customers into groups and identify the group of high-value customers--those who are loyal to the brand and really spend money. Since the customers are not labeled and we do not even know what is the correct number of clusters for this dataset, this is an unsupervised machine learning task.\n",
    "\n",
    "This project is a revision of hw2. I will use **KMeans** to segment customers into clusters. I will use **elbowology** to choose the best number of clusters and will compare **efficacy** of my own **\"cold\" implementation of KMeans** and **the KMeans algorithm from sklearn**."
   ]
  },
  {
   "cell_type": "code",
   "execution_count": 1,
   "metadata": {},
   "outputs": [],
   "source": [
    "# import block\n",
    "import pandas as pd\n",
    "import numpy as np\n",
    "import matplotlib.pyplot as plt\n",
    "import seaborn as sns\n",
    "%matplotlib inline\n",
    "\n",
    "from sklearn.cluster import KMeans\n",
    "from scipy.spatial import distance\n",
    "\n",
    "import time\n",
    "import memory_profiler\n",
    "\n",
    "from coding_1 import *"
   ]
  },
  {
   "cell_type": "markdown",
   "metadata": {},
   "source": [
    "## 1. The Dataset\n",
    "\n",
    "The dataset has 541909 rows where each row contains 9 variables about one specific transaction, and I will focus on 4 of them: `CustomerID`, `Quantity`, `UnitPrice`, and `Country`."
   ]
  },
  {
   "cell_type": "code",
   "execution_count": 2,
   "metadata": {
    "scrolled": true
   },
   "outputs": [
    {
     "name": "stdout",
     "output_type": "stream",
     "text": [
      "shape of records is (541909, 9)\n"
     ]
    },
    {
     "data": {
      "text/html": [
       "<div>\n",
       "<style scoped>\n",
       "    .dataframe tbody tr th:only-of-type {\n",
       "        vertical-align: middle;\n",
       "    }\n",
       "\n",
       "    .dataframe tbody tr th {\n",
       "        vertical-align: top;\n",
       "    }\n",
       "\n",
       "    .dataframe thead th {\n",
       "        text-align: right;\n",
       "    }\n",
       "</style>\n",
       "<table border=\"1\" class=\"dataframe\">\n",
       "  <thead>\n",
       "    <tr style=\"text-align: right;\">\n",
       "      <th></th>\n",
       "      <th>InvoiceNo</th>\n",
       "      <th>StockCode</th>\n",
       "      <th>Description</th>\n",
       "      <th>Quantity</th>\n",
       "      <th>InvoiceDate</th>\n",
       "      <th>UnitPrice</th>\n",
       "      <th>CustomerID</th>\n",
       "      <th>Country</th>\n",
       "      <th>Unnamed: 8</th>\n",
       "    </tr>\n",
       "  </thead>\n",
       "  <tbody>\n",
       "    <tr>\n",
       "      <th>0</th>\n",
       "      <td>536365</td>\n",
       "      <td>85123A</td>\n",
       "      <td>WHITE HANGING HEART T-LIGHT HOLDER</td>\n",
       "      <td>6</td>\n",
       "      <td>29-Nov-16</td>\n",
       "      <td>2.55</td>\n",
       "      <td>17850.0</td>\n",
       "      <td>United Kingdom</td>\n",
       "      <td>NaN</td>\n",
       "    </tr>\n",
       "    <tr>\n",
       "      <th>1</th>\n",
       "      <td>536365</td>\n",
       "      <td>71053</td>\n",
       "      <td>WHITE METAL LANTERN</td>\n",
       "      <td>6</td>\n",
       "      <td>29-Nov-16</td>\n",
       "      <td>3.39</td>\n",
       "      <td>17850.0</td>\n",
       "      <td>United Kingdom</td>\n",
       "      <td>NaN</td>\n",
       "    </tr>\n",
       "    <tr>\n",
       "      <th>2</th>\n",
       "      <td>536365</td>\n",
       "      <td>84406B</td>\n",
       "      <td>CREAM CUPID HEARTS COAT HANGER</td>\n",
       "      <td>8</td>\n",
       "      <td>29-Nov-16</td>\n",
       "      <td>2.75</td>\n",
       "      <td>17850.0</td>\n",
       "      <td>United Kingdom</td>\n",
       "      <td>NaN</td>\n",
       "    </tr>\n",
       "    <tr>\n",
       "      <th>3</th>\n",
       "      <td>536365</td>\n",
       "      <td>84029G</td>\n",
       "      <td>KNITTED UNION FLAG HOT WATER BOTTLE</td>\n",
       "      <td>6</td>\n",
       "      <td>29-Nov-16</td>\n",
       "      <td>3.39</td>\n",
       "      <td>17850.0</td>\n",
       "      <td>United Kingdom</td>\n",
       "      <td>NaN</td>\n",
       "    </tr>\n",
       "    <tr>\n",
       "      <th>4</th>\n",
       "      <td>536365</td>\n",
       "      <td>84029E</td>\n",
       "      <td>RED WOOLLY HOTTIE WHITE HEART.</td>\n",
       "      <td>6</td>\n",
       "      <td>29-Nov-16</td>\n",
       "      <td>3.39</td>\n",
       "      <td>17850.0</td>\n",
       "      <td>United Kingdom</td>\n",
       "      <td>NaN</td>\n",
       "    </tr>\n",
       "  </tbody>\n",
       "</table>\n",
       "</div>"
      ],
      "text/plain": [
       "  InvoiceNo StockCode                          Description  Quantity  \\\n",
       "0    536365    85123A   WHITE HANGING HEART T-LIGHT HOLDER         6   \n",
       "1    536365     71053                  WHITE METAL LANTERN         6   \n",
       "2    536365    84406B       CREAM CUPID HEARTS COAT HANGER         8   \n",
       "3    536365    84029G  KNITTED UNION FLAG HOT WATER BOTTLE         6   \n",
       "4    536365    84029E       RED WOOLLY HOTTIE WHITE HEART.         6   \n",
       "\n",
       "  InvoiceDate  UnitPrice  CustomerID         Country  Unnamed: 8  \n",
       "0   29-Nov-16       2.55     17850.0  United Kingdom         NaN  \n",
       "1   29-Nov-16       3.39     17850.0  United Kingdom         NaN  \n",
       "2   29-Nov-16       2.75     17850.0  United Kingdom         NaN  \n",
       "3   29-Nov-16       3.39     17850.0  United Kingdom         NaN  \n",
       "4   29-Nov-16       3.39     17850.0  United Kingdom         NaN  "
      ]
     },
     "execution_count": 2,
     "metadata": {},
     "output_type": "execute_result"
    }
   ],
   "source": [
    "# import data\n",
    "records = pd.read_csv(\"Ecommerce.csv\")\n",
    "print(\"shape of records is\", records.shape)\n",
    "records.head()"
   ]
  },
  {
   "cell_type": "markdown",
   "metadata": {},
   "source": [
    "I will need to process the dataset so that, in the resulting dataset (the input dataset my model will train on), each row represents a customer. For each customer, I will sum up these three pieces of information:\n",
    "\n",
    "1. the total amount of money spent by the customer (`Revenue`)\n",
    "2. the total quantity of products bought by the customer (`Quantity`)\n",
    "3. the country where the customer is from (`Country`)\n",
    "\n",
    "In processing the dataset, I will ignore rows where at least one of `Quantity`, `UnitPrice`, and `Country` variables is missing. I will multiple `Quantity` and `UnitPrice` to get the value of a transaction."
   ]
  },
  {
   "cell_type": "code",
   "execution_count": 4,
   "metadata": {},
   "outputs": [
    {
     "name": "stdout",
     "output_type": "stream",
     "text": [
      "shape of records_small is (406829, 5)\n"
     ]
    },
    {
     "data": {
      "text/html": [
       "<div>\n",
       "<style scoped>\n",
       "    .dataframe tbody tr th:only-of-type {\n",
       "        vertical-align: middle;\n",
       "    }\n",
       "\n",
       "    .dataframe tbody tr th {\n",
       "        vertical-align: top;\n",
       "    }\n",
       "\n",
       "    .dataframe thead th {\n",
       "        text-align: right;\n",
       "    }\n",
       "</style>\n",
       "<table border=\"1\" class=\"dataframe\">\n",
       "  <thead>\n",
       "    <tr style=\"text-align: right;\">\n",
       "      <th></th>\n",
       "      <th>CustomerID</th>\n",
       "      <th>Quantity</th>\n",
       "      <th>UnitPrice</th>\n",
       "      <th>Country</th>\n",
       "      <th>Revenue</th>\n",
       "    </tr>\n",
       "  </thead>\n",
       "  <tbody>\n",
       "    <tr>\n",
       "      <th>0</th>\n",
       "      <td>17850</td>\n",
       "      <td>6</td>\n",
       "      <td>2.55</td>\n",
       "      <td>35</td>\n",
       "      <td>15.30</td>\n",
       "    </tr>\n",
       "    <tr>\n",
       "      <th>1</th>\n",
       "      <td>17850</td>\n",
       "      <td>6</td>\n",
       "      <td>3.39</td>\n",
       "      <td>35</td>\n",
       "      <td>20.34</td>\n",
       "    </tr>\n",
       "    <tr>\n",
       "      <th>2</th>\n",
       "      <td>17850</td>\n",
       "      <td>8</td>\n",
       "      <td>2.75</td>\n",
       "      <td>35</td>\n",
       "      <td>22.00</td>\n",
       "    </tr>\n",
       "    <tr>\n",
       "      <th>3</th>\n",
       "      <td>17850</td>\n",
       "      <td>6</td>\n",
       "      <td>3.39</td>\n",
       "      <td>35</td>\n",
       "      <td>20.34</td>\n",
       "    </tr>\n",
       "    <tr>\n",
       "      <th>4</th>\n",
       "      <td>17850</td>\n",
       "      <td>6</td>\n",
       "      <td>3.39</td>\n",
       "      <td>35</td>\n",
       "      <td>20.34</td>\n",
       "    </tr>\n",
       "  </tbody>\n",
       "</table>\n",
       "</div>"
      ],
      "text/plain": [
       "   CustomerID  Quantity  UnitPrice  Country  Revenue\n",
       "0       17850         6       2.55       35    15.30\n",
       "1       17850         6       3.39       35    20.34\n",
       "2       17850         8       2.75       35    22.00\n",
       "3       17850         6       3.39       35    20.34\n",
       "4       17850         6       3.39       35    20.34"
      ]
     },
     "execution_count": 4,
     "metadata": {},
     "output_type": "execute_result"
    }
   ],
   "source": [
    "# focus on \"CustomerID\", \"Quantity\", \"UnitPrice\", and \"Country\"\n",
    "# drop lines with NaN values\n",
    "records_small = records[[\"CustomerID\", \"Quantity\", \"UnitPrice\", \"Country\"]].dropna()\n",
    "records_small[\"CustomerID\"] = records_small[\"CustomerID\"].astype(int)\n",
    "\n",
    "# calculate total revenue for each invoice\n",
    "records_small[\"Revenue\"] = records_small[\"Quantity\"] * records_small[\"UnitPrice\"]\n",
    "records_small\n",
    "\n",
    "# convert the country column to numerical\n",
    "records_small[\"Country\"] = pd.Categorical(records_small[\"Country\"])\n",
    "records_small[\"Country\"] = records_small[\"Country\"].cat.codes\n",
    "\n",
    "print(\"shape of records_small is\", records_small.shape)\n",
    "records_small.head()"
   ]
  },
  {
   "cell_type": "markdown",
   "metadata": {},
   "source": [
    "Then, I will group the dataset by `CustomerID` and sum up the total amount of spending (`Revenue`) and total quantity (`Quantity`) for each customer. I will convert the categorical `Country` variable to numerical, each country having a unique code."
   ]
  },
  {
   "cell_type": "code",
   "execution_count": 5,
   "metadata": {},
   "outputs": [
    {
     "name": "stdout",
     "output_type": "stream",
     "text": [
      "shape of customer is (4372, 4)\n"
     ]
    },
    {
     "name": "stderr",
     "output_type": "stream",
     "text": [
      "<ipython-input-5-fbb3e53cfdb6>:6: FutureWarning: Indexing with multiple keys (implicitly converted to a tuple of keys) will be deprecated, use a list instead.\n",
      "  customer = records_small.groupby([\"CustomerID\"], as_index=False)['Quantity', 'Revenue', 'Country'].agg({'Quantity': 'sum', 'Revenue': 'sum', 'Country': 'first'})\n"
     ]
    },
    {
     "data": {
      "text/html": [
       "<div>\n",
       "<style scoped>\n",
       "    .dataframe tbody tr th:only-of-type {\n",
       "        vertical-align: middle;\n",
       "    }\n",
       "\n",
       "    .dataframe tbody tr th {\n",
       "        vertical-align: top;\n",
       "    }\n",
       "\n",
       "    .dataframe thead th {\n",
       "        text-align: right;\n",
       "    }\n",
       "</style>\n",
       "<table border=\"1\" class=\"dataframe\">\n",
       "  <thead>\n",
       "    <tr style=\"text-align: right;\">\n",
       "      <th></th>\n",
       "      <th>CustomerID</th>\n",
       "      <th>Quantity</th>\n",
       "      <th>Revenue</th>\n",
       "      <th>Country</th>\n",
       "    </tr>\n",
       "  </thead>\n",
       "  <tbody>\n",
       "    <tr>\n",
       "      <th>0</th>\n",
       "      <td>12346</td>\n",
       "      <td>0</td>\n",
       "      <td>0.00</td>\n",
       "      <td>35</td>\n",
       "    </tr>\n",
       "    <tr>\n",
       "      <th>1</th>\n",
       "      <td>12347</td>\n",
       "      <td>2458</td>\n",
       "      <td>4310.00</td>\n",
       "      <td>16</td>\n",
       "    </tr>\n",
       "    <tr>\n",
       "      <th>2</th>\n",
       "      <td>12348</td>\n",
       "      <td>2341</td>\n",
       "      <td>1797.24</td>\n",
       "      <td>12</td>\n",
       "    </tr>\n",
       "    <tr>\n",
       "      <th>3</th>\n",
       "      <td>12349</td>\n",
       "      <td>631</td>\n",
       "      <td>1757.55</td>\n",
       "      <td>18</td>\n",
       "    </tr>\n",
       "    <tr>\n",
       "      <th>4</th>\n",
       "      <td>12350</td>\n",
       "      <td>197</td>\n",
       "      <td>334.40</td>\n",
       "      <td>24</td>\n",
       "    </tr>\n",
       "    <tr>\n",
       "      <th>5</th>\n",
       "      <td>12352</td>\n",
       "      <td>470</td>\n",
       "      <td>1545.41</td>\n",
       "      <td>24</td>\n",
       "    </tr>\n",
       "    <tr>\n",
       "      <th>6</th>\n",
       "      <td>12353</td>\n",
       "      <td>20</td>\n",
       "      <td>89.00</td>\n",
       "      <td>2</td>\n",
       "    </tr>\n",
       "    <tr>\n",
       "      <th>7</th>\n",
       "      <td>12354</td>\n",
       "      <td>530</td>\n",
       "      <td>1079.40</td>\n",
       "      <td>30</td>\n",
       "    </tr>\n",
       "    <tr>\n",
       "      <th>8</th>\n",
       "      <td>12355</td>\n",
       "      <td>240</td>\n",
       "      <td>459.40</td>\n",
       "      <td>2</td>\n",
       "    </tr>\n",
       "    <tr>\n",
       "      <th>9</th>\n",
       "      <td>12356</td>\n",
       "      <td>1591</td>\n",
       "      <td>2811.43</td>\n",
       "      <td>26</td>\n",
       "    </tr>\n",
       "  </tbody>\n",
       "</table>\n",
       "</div>"
      ],
      "text/plain": [
       "   CustomerID  Quantity  Revenue  Country\n",
       "0       12346         0     0.00       35\n",
       "1       12347      2458  4310.00       16\n",
       "2       12348      2341  1797.24       12\n",
       "3       12349       631  1757.55       18\n",
       "4       12350       197   334.40       24\n",
       "5       12352       470  1545.41       24\n",
       "6       12353        20    89.00        2\n",
       "7       12354       530  1079.40       30\n",
       "8       12355       240   459.40        2\n",
       "9       12356      1591  2811.43       26"
      ]
     },
     "execution_count": 5,
     "metadata": {},
     "output_type": "execute_result"
    }
   ],
   "source": [
    "# get the total money each customer spent and the total quantity each customer bought\n",
    "\n",
    "# code consultation:\n",
    "# https://stackoverflow.com/questions/49783178/python-keep-other-columns-when-using-sum-with-groupby\n",
    "\n",
    "customer = records_small.groupby([\"CustomerID\"], as_index=False)['Quantity', 'Revenue', 'Country'].agg({'Quantity': 'sum', 'Revenue': 'sum', 'Country': 'first'})\n",
    "print(\"shape of customer is\", customer.shape)\n",
    "customer.head(10)"
   ]
  },
  {
   "cell_type": "code",
   "execution_count": 6,
   "metadata": {},
   "outputs": [
    {
     "data": {
      "text/plain": [
       "array([[   0.  ,    0.  ,   35.  ],\n",
       "       [2458.  , 4310.  ,   16.  ],\n",
       "       [2341.  , 1797.24,   12.  ],\n",
       "       ...,\n",
       "       [  98.  ,  176.6 ,   35.  ],\n",
       "       [1397.  , 2094.88,   35.  ],\n",
       "       [1586.  , 1837.28,   35.  ]])"
      ]
     },
     "execution_count": 6,
     "metadata": {},
     "output_type": "execute_result"
    }
   ],
   "source": [
    "# convert the dataset to a numpy array for later use\n",
    "customer_np = customer[['Quantity', 'Revenue', 'Country']].to_numpy()\n",
    "customer_np"
   ]
  },
  {
   "cell_type": "markdown",
   "metadata": {},
   "source": [
    "## 2. Looping KMeans and Efficacy Comparison\n",
    "\n",
    "The hyperparameter here is k, the number of clusters. I will use **elbowology** to find the best k. I also want to compare the efficacy of my KMeans implementation and that of sklearn's KMeans implementation. Therefore, I will implement a looping-KMeans (k=2 to k=15) first with my KMeans and then with sklearn's KMeans and compare the runtime and memory usage.\n",
    "\n",
    "### 2.1. Time"
   ]
  },
  {
   "cell_type": "code",
   "execution_count": 7,
   "metadata": {},
   "outputs": [
    {
     "name": "stdout",
     "output_type": "stream",
     "text": [
      "This took 8.021277904510498 seconds to run\n"
     ]
    }
   ],
   "source": [
    "start_time = time.time()\n",
    "\n",
    "# looping k-means with implementation from sklearn\n",
    "SSE_list_sklearn = looping_kmeans_sklearn(customer_np, range(2, 16))\n",
    "\n",
    "# Stop the clock and determine the length of time\n",
    "stop_time = time.time()\n",
    "\n",
    "print(\"This took %s seconds to run\" % (stop_time - start_time))"
   ]
  },
  {
   "cell_type": "code",
   "execution_count": 8,
   "metadata": {},
   "outputs": [
    {
     "name": "stdout",
     "output_type": "stream",
     "text": [
      "This took 50.782066106796265 seconds to run\n"
     ]
    }
   ],
   "source": [
    "start_time = time.time()\n",
    "\n",
    "# looping k-means with my implementation of KMeans\n",
    "SSE_list_my_kmeans = looping_kmeans_my(customer_np, range(2, 16))\n",
    "\n",
    "# Stop the clock and determine the length of time\n",
    "stop_time = time.time()\n",
    "\n",
    "print(\"This took %s seconds to run\" % (stop_time - start_time))"
   ]
  },
  {
   "cell_type": "markdown",
   "metadata": {},
   "source": [
    "It took 8.021 seconds to run a looping KMeans with sklearn's KMeans, and 50.782 seconds with my KMeans. It took significantly longer time to run my KMeans, which is surprising to me. In lab 18, I have timed my KMeans and sklearn's KMeans on the student_info dataset, and my KMeans took slightly shorter time than sklearn's KMeans did. I guess one reason to explain the opposite results I got is the size of the dataset. The dataset used in this project is significantly larger then the student_info dataset, which may have magnified the inefficient sections in my implementation.\n",
    "\n",
    "\n",
    "### 2.2. Memory"
   ]
  },
  {
   "cell_type": "code",
   "execution_count": 9,
   "metadata": {},
   "outputs": [],
   "source": [
    "%load_ext memory_profiler"
   ]
  },
  {
   "cell_type": "code",
   "execution_count": 10,
   "metadata": {},
   "outputs": [
    {
     "name": "stdout",
     "output_type": "stream",
     "text": [
      "peak memory: 229.73 MiB, increment: 0.03 MiB\n"
     ]
    }
   ],
   "source": [
    "# sklearn's KMeans\n",
    "%memit looping_kmeans_sklearn(customer_np, range(2, 16))"
   ]
  },
  {
   "cell_type": "code",
   "execution_count": 11,
   "metadata": {},
   "outputs": [
    {
     "name": "stdout",
     "output_type": "stream",
     "text": [
      "peak memory: 230.39 MiB, increment: 0.65 MiB\n"
     ]
    }
   ],
   "source": [
    "# My KMeans\n",
    "%memit looping_kmeans_my(customer_np, range(2, 16))"
   ]
  },
  {
   "cell_type": "markdown",
   "metadata": {},
   "source": [
    "Though the peak memory usage of my KMeans and sklearn's KMeans are about the same, increment of my implementation is significantly larger than that of sklearn's. As stated in [this post](https://stackoverflow.com/questions/45318536/trying-to-understand-python-memory-profiler), \"Increment is the increment in memory usage relative to the memory usage just before the program is run.\" Since my implementation has a larger increment in memory usage, again, my implementation is significantly less efficient than that of sklearn's.\n",
    "\n",
    "\n",
    "## 3. Elbowology: Choosing the Best k\n",
    "\n",
    "I have implemented looping KMeans with my KMeans and sklearn's KMeans and got two lists of within-cluster SSE. I plot the within-cluster SSE over the number of clusters and got the plot below."
   ]
  },
  {
   "cell_type": "code",
   "execution_count": 12,
   "metadata": {},
   "outputs": [
    {
     "data": {
      "image/png": "[encoded data removed]",
      "text/plain": [
       "<Figure size 576x360 with 1 Axes>"
      ]
     },
     "metadata": {
      "needs_background": "light"
     },
     "output_type": "display_data"
    }
   ],
   "source": [
    "# plot within-cluster SSE over number of clusters\n",
    "plt.figure(figsize=(8,5))\n",
    "plt.plot(range(2, 16), SSE_list_sklearn, '-o', label='sklearn')\n",
    "plt.plot(range(2, 16), SSE_list_my_kmeans, '-o', label='my KMeans')\n",
    "plt.xlabel('number of clusters')\n",
    "plt.ylabel('within-cluster sum of squared error')\n",
    "plt.legend()\n",
    "plt.show()"
   ]
  },
  {
   "cell_type": "markdown",
   "metadata": {},
   "source": [
    "The \"elbow\" is not that obvious in the plot above. However, there seems to be a slight \"elbow\" at k=4 for both lines. Therefore, I decide the best number of clusters is 4.\n",
    "\n",
    "\n",
    "## 4. Modeling and Interpretation\n",
    "\n",
    "I plot `Quantity` over label, `Revenue` over label, and `Country` over label and got the plots below."
   ]
  },
  {
   "cell_type": "code",
   "execution_count": 13,
   "metadata": {},
   "outputs": [
    {
     "data": {
      "text/html": [
       "<div>\n",
       "<style scoped>\n",
       "    .dataframe tbody tr th:only-of-type {\n",
       "        vertical-align: middle;\n",
       "    }\n",
       "\n",
       "    .dataframe tbody tr th {\n",
       "        vertical-align: top;\n",
       "    }\n",
       "\n",
       "    .dataframe thead th {\n",
       "        text-align: right;\n",
       "    }\n",
       "</style>\n",
       "<table border=\"1\" class=\"dataframe\">\n",
       "  <thead>\n",
       "    <tr style=\"text-align: right;\">\n",
       "      <th></th>\n",
       "      <th>CustomerID</th>\n",
       "      <th>Quantity</th>\n",
       "      <th>Revenue</th>\n",
       "      <th>Country</th>\n",
       "      <th>Label</th>\n",
       "    </tr>\n",
       "  </thead>\n",
       "  <tbody>\n",
       "    <tr>\n",
       "      <th>0</th>\n",
       "      <td>12346</td>\n",
       "      <td>0</td>\n",
       "      <td>0.00</td>\n",
       "      <td>35</td>\n",
       "      <td>0</td>\n",
       "    </tr>\n",
       "    <tr>\n",
       "      <th>1</th>\n",
       "      <td>12347</td>\n",
       "      <td>2458</td>\n",
       "      <td>4310.00</td>\n",
       "      <td>16</td>\n",
       "      <td>0</td>\n",
       "    </tr>\n",
       "    <tr>\n",
       "      <th>2</th>\n",
       "      <td>12348</td>\n",
       "      <td>2341</td>\n",
       "      <td>1797.24</td>\n",
       "      <td>12</td>\n",
       "      <td>0</td>\n",
       "    </tr>\n",
       "    <tr>\n",
       "      <th>3</th>\n",
       "      <td>12349</td>\n",
       "      <td>631</td>\n",
       "      <td>1757.55</td>\n",
       "      <td>18</td>\n",
       "      <td>0</td>\n",
       "    </tr>\n",
       "    <tr>\n",
       "      <th>4</th>\n",
       "      <td>12350</td>\n",
       "      <td>197</td>\n",
       "      <td>334.40</td>\n",
       "      <td>24</td>\n",
       "      <td>0</td>\n",
       "    </tr>\n",
       "  </tbody>\n",
       "</table>\n",
       "</div>"
      ],
      "text/plain": [
       "   CustomerID  Quantity  Revenue  Country  Label\n",
       "0       12346         0     0.00       35      0\n",
       "1       12347      2458  4310.00       16      0\n",
       "2       12348      2341  1797.24       12      0\n",
       "3       12349       631  1757.55       18      0\n",
       "4       12350       197   334.40       24      0"
      ]
     },
     "execution_count": 13,
     "metadata": {},
     "output_type": "execute_result"
    }
   ],
   "source": [
    "km_model = KMeans(n_clusters=4)\n",
    "km_model.fit(customer_np)\n",
    "\n",
    "customer['Label'] = km_model.predict(customer_np)\n",
    "customer.head()"
   ]
  },
  {
   "cell_type": "code",
   "execution_count": 16,
   "metadata": {},
   "outputs": [
    {
     "data": {
      "text/plain": [
       "<AxesSubplot:xlabel='Label', ylabel='Quantity'>"
      ]
     },
     "execution_count": 16,
     "metadata": {},
     "output_type": "execute_result"
    },
    {
     "data": {
      "image/png": "[encoded data removed]",
      "text/plain": [
       "<Figure size 432x288 with 1 Axes>"
      ]
     },
     "metadata": {
      "needs_background": "light"
     },
     "output_type": "display_data"
    }
   ],
   "source": [
    "sns.stripplot(x='Label', y='Quantity', data=customer, jitter=0.4)"
   ]
  },
  {
   "cell_type": "code",
   "execution_count": 17,
   "metadata": {},
   "outputs": [
    {
     "data": {
      "text/plain": [
       "<AxesSubplot:xlabel='Label', ylabel='Revenue'>"
      ]
     },
     "execution_count": 17,
     "metadata": {},
     "output_type": "execute_result"
    },
    {
     "data": {
      "image/png": "[encoded data removed]",
      "text/plain": [
       "<Figure size 432x288 with 1 Axes>"
      ]
     },
     "metadata": {
      "needs_background": "light"
     },
     "output_type": "display_data"
    }
   ],
   "source": [
    "sns.stripplot(x='Label', y='Revenue', data=customer, jitter=0.4)"
   ]
  },
  {
   "cell_type": "code",
   "execution_count": 18,
   "metadata": {},
   "outputs": [
    {
     "data": {
      "text/plain": [
       "<AxesSubplot:xlabel='Label', ylabel='Country'>"
      ]
     },
     "execution_count": 18,
     "metadata": {},
     "output_type": "execute_result"
    },
    {
     "data": {
      "image/png": "[encoded data removed]",
      "text/plain": [
       "<Figure size 432x288 with 1 Axes>"
      ]
     },
     "metadata": {
      "needs_background": "light"
     },
     "output_type": "display_data"
    }
   ],
   "source": [
    "sns.stripplot(x='Label', y='Country', data=customer, jitter=0.4)"
   ]
  },
  {
   "cell_type": "markdown",
   "metadata": {},
   "source": [
    "Since there are few points in class 2 and 3 and that those points have uncommonly high `Quantity` and `Revenue`, my guess is that those are outliers. Looking at group 1 and group 4, my observations are:\n",
    "\n",
    "* in general, data points in group 4 have higher `Quantity` than those in group 1\n",
    "* in general, data points in group 4 have higher `Revenue` than those in group 1\n",
    "* in general, customers in group 4 are from the UK (country code 35)\n",
    "\n",
    "My conclusion is that customers in group 4 are the high-value customers we are finding, since they have bought more products and spent more money. It is more likely that high-value customers are from the UK, which makes sense since the base of the business is in the UK."
   ]
  }
 ],
 "metadata": {
  "kernelspec": {
   "display_name": "Python 3",
   "language": "python",
   "name": "python3"
  },
  "language_info": {
   "codemirror_mode": {
    "name": "ipython",
    "version": 3
   },
   "file_extension": ".py",
   "mimetype": "text/x-python",
   "name": "python",
   "nbconvert_exporter": "python",
   "pygments_lexer": "ipython3",
   "version": "3.8.10"
  }
 },
 "nbformat": 4,
 "nbformat_minor": 2
}
