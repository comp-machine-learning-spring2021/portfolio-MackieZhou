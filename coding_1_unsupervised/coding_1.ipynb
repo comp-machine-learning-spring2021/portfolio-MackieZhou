{
 "metadata": {
  "language_info": {
   "codemirror_mode": {
    "name": "ipython",
    "version": 3
   },
   "file_extension": ".py",
   "mimetype": "text/x-python",
   "name": "python",
   "nbconvert_exporter": "python",
   "pygments_lexer": "ipython3",
   "version": "3.8.8"
  },
  "orig_nbformat": 2,
  "kernelspec": {
   "name": "python388jvsc74a57bd0e641c4b92376dc9bd079cc248ace28dbe156d700fd16a7199093be6a3cabd287",
   "display_name": "Python 3.8.8 64-bit ('csc294': conda)"
  }
 },
 "nbformat": 4,
 "nbformat_minor": 2,
 "cells": [
  {
   "cell_type": "code",
   "execution_count": 1,
   "metadata": {},
   "outputs": [],
   "source": [
    "# import block\n",
    "import pandas as pd\n",
    "import numpy as np\n",
    "from sklearn.cluster import KMeans\n",
    "from scipy.spatial import distance\n",
    "\n",
    "from coding_1 import *"
   ]
  },
  {
   "cell_type": "code",
   "execution_count": 2,
   "metadata": {},
   "outputs": [
    {
     "output_type": "stream",
     "name": "stdout",
     "text": [
      "shape of records is (541909, 9)\n"
     ]
    },
    {
     "output_type": "execute_result",
     "data": {
      "text/plain": [
       "  InvoiceNo StockCode                          Description  Quantity  \\\n",
       "0    536365    85123A   WHITE HANGING HEART T-LIGHT HOLDER         6   \n",
       "1    536365     71053                  WHITE METAL LANTERN         6   \n",
       "2    536365    84406B       CREAM CUPID HEARTS COAT HANGER         8   \n",
       "3    536365    84029G  KNITTED UNION FLAG HOT WATER BOTTLE         6   \n",
       "4    536365    84029E       RED WOOLLY HOTTIE WHITE HEART.         6   \n",
       "\n",
       "  InvoiceDate  UnitPrice  CustomerID         Country  Unnamed: 8  \n",
       "0   29-Nov-16       2.55     17850.0  United Kingdom         NaN  \n",
       "1   29-Nov-16       3.39     17850.0  United Kingdom         NaN  \n",
       "2   29-Nov-16       2.75     17850.0  United Kingdom         NaN  \n",
       "3   29-Nov-16       3.39     17850.0  United Kingdom         NaN  \n",
       "4   29-Nov-16       3.39     17850.0  United Kingdom         NaN  "
      ],
      "text/html": "<div>\n<style scoped>\n    .dataframe tbody tr th:only-of-type {\n        vertical-align: middle;\n    }\n\n    .dataframe tbody tr th {\n        vertical-align: top;\n    }\n\n    .dataframe thead th {\n        text-align: right;\n    }\n</style>\n<table border=\"1\" class=\"dataframe\">\n  <thead>\n    <tr style=\"text-align: right;\">\n      <th></th>\n      <th>InvoiceNo</th>\n      <th>StockCode</th>\n      <th>Description</th>\n      <th>Quantity</th>\n      <th>InvoiceDate</th>\n      <th>UnitPrice</th>\n      <th>CustomerID</th>\n      <th>Country</th>\n      <th>Unnamed: 8</th>\n    </tr>\n  </thead>\n  <tbody>\n    <tr>\n      <th>0</th>\n      <td>536365</td>\n      <td>85123A</td>\n      <td>WHITE HANGING HEART T-LIGHT HOLDER</td>\n      <td>6</td>\n      <td>29-Nov-16</td>\n      <td>2.55</td>\n      <td>17850.0</td>\n      <td>United Kingdom</td>\n      <td>NaN</td>\n    </tr>\n    <tr>\n      <th>1</th>\n      <td>536365</td>\n      <td>71053</td>\n      <td>WHITE METAL LANTERN</td>\n      <td>6</td>\n      <td>29-Nov-16</td>\n      <td>3.39</td>\n      <td>17850.0</td>\n      <td>United Kingdom</td>\n      <td>NaN</td>\n    </tr>\n    <tr>\n      <th>2</th>\n      <td>536365</td>\n      <td>84406B</td>\n      <td>CREAM CUPID HEARTS COAT HANGER</td>\n      <td>8</td>\n      <td>29-Nov-16</td>\n      <td>2.75</td>\n      <td>17850.0</td>\n      <td>United Kingdom</td>\n      <td>NaN</td>\n    </tr>\n    <tr>\n      <th>3</th>\n      <td>536365</td>\n      <td>84029G</td>\n      <td>KNITTED UNION FLAG HOT WATER BOTTLE</td>\n      <td>6</td>\n      <td>29-Nov-16</td>\n      <td>3.39</td>\n      <td>17850.0</td>\n      <td>United Kingdom</td>\n      <td>NaN</td>\n    </tr>\n    <tr>\n      <th>4</th>\n      <td>536365</td>\n      <td>84029E</td>\n      <td>RED WOOLLY HOTTIE WHITE HEART.</td>\n      <td>6</td>\n      <td>29-Nov-16</td>\n      <td>3.39</td>\n      <td>17850.0</td>\n      <td>United Kingdom</td>\n      <td>NaN</td>\n    </tr>\n  </tbody>\n</table>\n</div>"
     },
     "metadata": {},
     "execution_count": 2
    }
   ],
   "source": [
    "# import data\n",
    "records = pd.read_csv(\"Ecommerce.csv\")\n",
    "print(\"shape of records is\", records.shape)\n",
    "records.head()"
   ]
  },
  {
   "cell_type": "code",
   "execution_count": 3,
   "metadata": {},
   "outputs": [
    {
     "output_type": "stream",
     "name": "stdout",
     "text": [
      "shape of records_small is (406829, 5)\n"
     ]
    },
    {
     "output_type": "execute_result",
     "data": {
      "text/plain": [
       "    CustomerID  Quantity  UnitPrice  Country  Total\n",
       "0        17850         6       2.55       35  15.30\n",
       "1        17850         6       3.39       35  20.34\n",
       "2        17850         8       2.75       35  22.00\n",
       "3        17850         6       3.39       35  20.34\n",
       "4        17850         6       3.39       35  20.34\n",
       "5        17850         2       7.65       35  15.30\n",
       "6        17850         6       4.25       35  25.50\n",
       "7        17850         6       1.85       35  11.10\n",
       "8        17850         6       1.85       35  11.10\n",
       "9        13047        32       1.69       35  54.08\n",
       "10       13047         6       2.10       35  12.60\n",
       "11       13047         6       2.10       35  12.60\n",
       "12       13047         8       3.75       35  30.00\n",
       "13       13047         6       1.65       35   9.90\n",
       "14       13047         6       4.25       35  25.50"
      ],
      "text/html": "<div>\n<style scoped>\n    .dataframe tbody tr th:only-of-type {\n        vertical-align: middle;\n    }\n\n    .dataframe tbody tr th {\n        vertical-align: top;\n    }\n\n    .dataframe thead th {\n        text-align: right;\n    }\n</style>\n<table border=\"1\" class=\"dataframe\">\n  <thead>\n    <tr style=\"text-align: right;\">\n      <th></th>\n      <th>CustomerID</th>\n      <th>Quantity</th>\n      <th>UnitPrice</th>\n      <th>Country</th>\n      <th>Total</th>\n    </tr>\n  </thead>\n  <tbody>\n    <tr>\n      <th>0</th>\n      <td>17850</td>\n      <td>6</td>\n      <td>2.55</td>\n      <td>35</td>\n      <td>15.30</td>\n    </tr>\n    <tr>\n      <th>1</th>\n      <td>17850</td>\n      <td>6</td>\n      <td>3.39</td>\n      <td>35</td>\n      <td>20.34</td>\n    </tr>\n    <tr>\n      <th>2</th>\n      <td>17850</td>\n      <td>8</td>\n      <td>2.75</td>\n      <td>35</td>\n      <td>22.00</td>\n    </tr>\n    <tr>\n      <th>3</th>\n      <td>17850</td>\n      <td>6</td>\n      <td>3.39</td>\n      <td>35</td>\n      <td>20.34</td>\n    </tr>\n    <tr>\n      <th>4</th>\n      <td>17850</td>\n      <td>6</td>\n      <td>3.39</td>\n      <td>35</td>\n      <td>20.34</td>\n    </tr>\n    <tr>\n      <th>5</th>\n      <td>17850</td>\n      <td>2</td>\n      <td>7.65</td>\n      <td>35</td>\n      <td>15.30</td>\n    </tr>\n    <tr>\n      <th>6</th>\n      <td>17850</td>\n      <td>6</td>\n      <td>4.25</td>\n      <td>35</td>\n      <td>25.50</td>\n    </tr>\n    <tr>\n      <th>7</th>\n      <td>17850</td>\n      <td>6</td>\n      <td>1.85</td>\n      <td>35</td>\n      <td>11.10</td>\n    </tr>\n    <tr>\n      <th>8</th>\n      <td>17850</td>\n      <td>6</td>\n      <td>1.85</td>\n      <td>35</td>\n      <td>11.10</td>\n    </tr>\n    <tr>\n      <th>9</th>\n      <td>13047</td>\n      <td>32</td>\n      <td>1.69</td>\n      <td>35</td>\n      <td>54.08</td>\n    </tr>\n    <tr>\n      <th>10</th>\n      <td>13047</td>\n      <td>6</td>\n      <td>2.10</td>\n      <td>35</td>\n      <td>12.60</td>\n    </tr>\n    <tr>\n      <th>11</th>\n      <td>13047</td>\n      <td>6</td>\n      <td>2.10</td>\n      <td>35</td>\n      <td>12.60</td>\n    </tr>\n    <tr>\n      <th>12</th>\n      <td>13047</td>\n      <td>8</td>\n      <td>3.75</td>\n      <td>35</td>\n      <td>30.00</td>\n    </tr>\n    <tr>\n      <th>13</th>\n      <td>13047</td>\n      <td>6</td>\n      <td>1.65</td>\n      <td>35</td>\n      <td>9.90</td>\n    </tr>\n    <tr>\n      <th>14</th>\n      <td>13047</td>\n      <td>6</td>\n      <td>4.25</td>\n      <td>35</td>\n      <td>25.50</td>\n    </tr>\n  </tbody>\n</table>\n</div>"
     },
     "metadata": {},
     "execution_count": 3
    }
   ],
   "source": [
    "records_small = records[[\"CustomerID\", \"Quantity\", \"UnitPrice\", \"Country\"]].dropna()\n",
    "records_small[\"CustomerID\"] = records_small[\"CustomerID\"].astype(int)\n",
    "\n",
    "# calculate total pay for each invoice\n",
    "records_small[\"Total\"] = records_small[\"Quantity\"] * records_small[\"UnitPrice\"]\n",
    "records_small\n",
    "\n",
    "# convert the country column to numerical\n",
    "records_small[\"Country\"] = pd.Categorical(records_small[\"Country\"])\n",
    "records_small[\"Country\"] = records_small[\"Country\"].cat.codes\n",
    "\n",
    "print(\"shape of records_small is\", records_small.shape)\n",
    "records_small.head(15)"
   ]
  },
  {
   "cell_type": "code",
   "execution_count": 4,
   "metadata": {},
   "outputs": [
    {
     "output_type": "stream",
     "name": "stdout",
     "text": [
      "shape of customer is (4372, 4)\n",
      "<ipython-input-4-e3973b21bd30>:5: FutureWarning: Indexing with multiple keys (implicitly converted to a tuple of keys) will be deprecated, use a list instead.\n",
      "  customer = records_small.groupby([\"CustomerID\"], as_index=False)['Quantity', 'Total', 'Country'].agg({'Quantity': 'sum', 'Total': 'sum', 'Country': 'first'})\n"
     ]
    },
    {
     "output_type": "execute_result",
     "data": {
      "text/plain": [
       "   CustomerID  Quantity    Total  Country\n",
       "0       12346         0     0.00       35\n",
       "1       12347      2458  4310.00       16\n",
       "2       12348      2341  1797.24       12\n",
       "3       12349       631  1757.55       18\n",
       "4       12350       197   334.40       24"
      ],
      "text/html": "<div>\n<style scoped>\n    .dataframe tbody tr th:only-of-type {\n        vertical-align: middle;\n    }\n\n    .dataframe tbody tr th {\n        vertical-align: top;\n    }\n\n    .dataframe thead th {\n        text-align: right;\n    }\n</style>\n<table border=\"1\" class=\"dataframe\">\n  <thead>\n    <tr style=\"text-align: right;\">\n      <th></th>\n      <th>CustomerID</th>\n      <th>Quantity</th>\n      <th>Total</th>\n      <th>Country</th>\n    </tr>\n  </thead>\n  <tbody>\n    <tr>\n      <th>0</th>\n      <td>12346</td>\n      <td>0</td>\n      <td>0.00</td>\n      <td>35</td>\n    </tr>\n    <tr>\n      <th>1</th>\n      <td>12347</td>\n      <td>2458</td>\n      <td>4310.00</td>\n      <td>16</td>\n    </tr>\n    <tr>\n      <th>2</th>\n      <td>12348</td>\n      <td>2341</td>\n      <td>1797.24</td>\n      <td>12</td>\n    </tr>\n    <tr>\n      <th>3</th>\n      <td>12349</td>\n      <td>631</td>\n      <td>1757.55</td>\n      <td>18</td>\n    </tr>\n    <tr>\n      <th>4</th>\n      <td>12350</td>\n      <td>197</td>\n      <td>334.40</td>\n      <td>24</td>\n    </tr>\n  </tbody>\n</table>\n</div>"
     },
     "metadata": {},
     "execution_count": 4
    }
   ],
   "source": [
    "# calculate the total amount of money each customer spent\n",
    "# code consultation:\n",
    "# https://stackoverflow.com/questions/49783178/python-keep-other-columns-when-using-sum-with-groupby\n",
    "\n",
    "customer = records_small.groupby([\"CustomerID\"], as_index=False)['Quantity', 'Total', 'Country'].agg({'Quantity': 'sum', 'Total': 'sum', 'Country': 'first'})\n",
    "print(\"shape of customer is\", customer.shape)\n",
    "customer.head()"
   ]
  },
  {
   "cell_type": "code",
   "execution_count": 5,
   "metadata": {},
   "outputs": [
    {
     "output_type": "execute_result",
     "data": {
      "text/plain": [
       "array([[   0.  ,    0.  ,   35.  ],\n",
       "       [2458.  , 4310.  ,   16.  ],\n",
       "       [2341.  , 1797.24,   12.  ],\n",
       "       ...,\n",
       "       [  98.  ,  176.6 ,   35.  ],\n",
       "       [1397.  , 2094.88,   35.  ],\n",
       "       [1586.  , 1837.28,   35.  ]])"
      ]
     },
     "metadata": {},
     "execution_count": 5
    }
   ],
   "source": [
    "# convert the dataset to a numpy array for later use\n",
    "customer_np = customer[['Quantity', 'Total', 'Country']].to_numpy()\n",
    "customer_np"
   ]
  },
  {
   "cell_type": "code",
   "execution_count": 9,
   "metadata": {},
   "outputs": [
    {
     "output_type": "stream",
     "name": "stdout",
     "text": [
      "4372\n"
     ]
    },
    {
     "output_type": "execute_result",
     "data": {
      "text/plain": [
       "array([[2.36090000e+04, 3.83386427e+04, 3.48461538e+01],\n",
       "       [1.09956667e+05, 2.41136560e+05, 3.10000000e+01],\n",
       "       [6.42753333e+04, 9.77254617e+04, 2.08333333e+01],\n",
       "       [5.47153789e+02, 9.13085924e+02, 3.32983851e+01],\n",
       "       [4.40781410e+03, 7.43053785e+03, 3.19423077e+01]])"
      ]
     },
     "metadata": {},
     "execution_count": 9
    }
   ],
   "source": [
    "# test my_kmeans(data, k, random)\n",
    "\n",
    "my_km = my_kmeans(customer_np, 5, 2021)\n",
    "print(len(my_km[1]))\n",
    "my_km[0]"
   ]
  },
  {
   "cell_type": "code",
   "execution_count": 11,
   "metadata": {},
   "outputs": [
    {
     "output_type": "execute_result",
     "data": {
      "text/plain": [
       "[407.76746479582243,\n",
       " 95.481796389734,\n",
       " 78.9658609821125,\n",
       " 62.062531685897795,\n",
       " 59.0999674983127,\n",
       " 53.11022990979635,\n",
       " 51.61726374452886,\n",
       " 47.00683312751935,\n",
       " 43.86783258903348,\n",
       " 43.03677510183669,\n",
       " 28.6332765489159,\n",
       " 35.62018422501967,\n",
       " 31.633607856425733,\n",
       " 21.513108276288804,\n",
       " 20.596434344385443]"
      ]
     },
     "metadata": {},
     "execution_count": 11
    }
   ],
   "source": [
    "# looping k-means with implementation from sklearn\n",
    "\n",
    "SSE_list = looping_kmeans(customer_np, range(1, 16))\n",
    "SSE_list"
   ]
  }
 ]
}